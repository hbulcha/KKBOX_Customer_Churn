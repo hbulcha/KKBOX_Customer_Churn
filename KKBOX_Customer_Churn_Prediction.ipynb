{
 "cells": [
  {
   "cell_type": "markdown",
   "metadata": {},
   "source": [
    "# KKBox Churn Prediction Challenge \n",
    "Carmen Easterwood & Hawina Bulcha"
   ]
  },
  {
   "cell_type": "code",
   "execution_count": 1,
   "metadata": {},
   "outputs": [
    {
     "name": "stderr",
     "output_type": "stream",
     "text": [
      "//anaconda/lib/python3.5/site-packages/sklearn/cross_validation.py:44: DeprecationWarning: This module was deprecated in version 0.18 in favor of the model_selection module into which all the refactored classes and functions are moved. Also note that the interface of the new CV iterators are different from that of this module. This module will be removed in 0.20.\n",
      "  \"This module will be removed in 0.20.\", DeprecationWarning)\n",
      "//anaconda/lib/python3.5/site-packages/sklearn/grid_search.py:43: DeprecationWarning: This module was deprecated in version 0.18 in favor of the model_selection module into which all the refactored classes and functions are moved. This module will be removed in 0.20.\n",
      "  DeprecationWarning)\n"
     ]
    }
   ],
   "source": [
    "%matplotlib inline\n",
    "\n",
    "import numpy as np\n",
    "import pandas as pd\n",
    "import matplotlib.pyplot as plt\n",
    "import datetime as dt\n",
    "from sklearn.preprocessing import FunctionTransformer, StandardScaler, Imputer\n",
    "from sklearn.feature_extraction import DictVectorizer\n",
    "from sklearn.pipeline import Pipeline, FeatureUnion\n",
    "from sklearn.decomposition import PCA\n",
    "from sklearn.neighbors import KNeighborsClassifier\n",
    "from sklearn.naive_bayes import BernoulliNB\n",
    "from sklearn.linear_model import LogisticRegression\n",
    "from sklearn.grid_search import GridSearchCV\n",
    "from sklearn.metrics import classification_report, roc_curve, roc_auc_score"
   ]
  },
  {
   "cell_type": "markdown",
   "metadata": {},
   "source": [
    "# Business Understanding\n",
    "\n",
    "\n",
    "KKBox is a music streaming service based in Taiwan, which offers customers access to songs based on a payment plan. Customer retention is key to business stability, particularly when that business is based off of subscriptions. Yet prior to implementing any strategies to improve retention, the business needs an accurate method to discern those subscribers most likely to churn. KKBox defines a customer as having \"churned\" if no new transactions are initiated within a month of the user's subscription expiring.  \n",
    "\n",
    "**Problem Statement**: Provide a method to identify customers most likely to churn. \n",
    "\n",
    "We approach this as a supervised learning problem where the requirement is to build a classifier which maps the available attributes of a customer to a label for whether the customer has churned or not. The relevant metrics include any attributes which are directly or indirectly related to a customer's behavior. "
   ]
  },
  {
   "cell_type": "markdown",
   "metadata": {},
   "source": [
    "# Data Understanding and Restrictions"
   ]
  },
  {
   "cell_type": "markdown",
   "metadata": {},
   "source": [
    "All of the features used in our classifiers are taken directly or otherwise derived from the four files provided by KKBox on members, user logs, transactions and train data. Members consists of personal information about each subscriber, presented as a single row per subscriber with a unique identifier. Similarly, the train file provides an indicator for whether each subscriber churned during February 2017. Transactions and user logs cover payment and streaming information respectively during the time period January 2015 - February 2017. The unit of granularity for transactions is a payment or cancellation, whereas a single row in user_logs corresponds to an instance where the user logged in and streamed music.  "
   ]
  },
  {
   "cell_type": "markdown",
   "metadata": {},
   "source": [
    "The initial data consists of 6 million member profiles, 21 million transaction records, and 392 million user logs. After the competition started, KKBox posted transaction and user log data for March 2017 in order to predict April 2017 churn.\n",
    "\n",
    "Since Jupyter notebooks cannot handle this amount of data, we restrict the dataset to a random sample of 20,000 users and all their related information in each of the files. We then randomly split this into a train/test set for analysis. In doing so, we have also adjusted the requirement to predicting churn information within the same time period. The original requirement was training the model on one time period with feature data through February 2017, and churn labels in March 2017. The prediction would be based on a different time period with features through March 2017, and churn labels to be predicted in April 2017. As a result of the different time periods, the KKBox data allows for the same user to exist in both the train and test sets. \n",
    "\n",
    "However, our analysis will stick to the original time period (February 2017) for both consuming training data and predicting test data for a random sample of 20,000 users. In this way, we ensure that the users in the train set are different from those of the test set. We first generate a list of these users from the train file and use it to filter the other files."
   ]
  },
  {
   "cell_type": "markdown",
   "metadata": {},
   "source": [
    "## Create Filtered Data Files"
   ]
  },
  {
   "cell_type": "markdown",
   "metadata": {},
   "source": [
    "### Get Set of 20,000 Member IDs and Churn Labels"
   ]
  },
  {
   "cell_type": "code",
   "execution_count": 2,
   "metadata": {},
   "outputs": [
    {
     "name": "stdout",
     "output_type": "stream",
     "text": [
      "RECORDS: 20,000\n",
      "Percent Churned: 6.5%\n"
     ]
    }
   ],
   "source": [
    "# Load a sample of 10,000 records from the KKBox training data\n",
    "np.random.seed(0)\n",
    "churn_labels = pd.read_csv('data/train.csv').sample(n=20000)\n",
    "print ('''RECORDS: {:,}\n",
    "Percent Churned: {:.1f}%'''.format(len(churn_labels),\n",
    "                100.0 * churn_labels.is_churn.mean()))"
   ]
  },
  {
   "cell_type": "code",
   "execution_count": 3,
   "metadata": {},
   "outputs": [
    {
     "data": {
      "text/html": [
       "<div>\n",
       "<style>\n",
       "    .dataframe thead tr:only-child th {\n",
       "        text-align: right;\n",
       "    }\n",
       "\n",
       "    .dataframe thead th {\n",
       "        text-align: left;\n",
       "    }\n",
       "\n",
       "    .dataframe tbody tr th {\n",
       "        vertical-align: top;\n",
       "    }\n",
       "</style>\n",
       "<table border=\"1\" class=\"dataframe\">\n",
       "  <thead>\n",
       "    <tr style=\"text-align: right;\">\n",
       "      <th></th>\n",
       "      <th>msno</th>\n",
       "      <th>is_churn</th>\n",
       "    </tr>\n",
       "  </thead>\n",
       "  <tbody>\n",
       "    <tr>\n",
       "      <th>626358</th>\n",
       "      <td>yQ1Vuk7eY1xYfH3RfpWH9kNHge/3svoZUJrIE3X8n0g=</td>\n",
       "      <td>0</td>\n",
       "    </tr>\n",
       "    <tr>\n",
       "      <th>942191</th>\n",
       "      <td>UDkNk3peTC4h1GjPc4L6jfrE5g7zIok/8xo4l+jOl34=</td>\n",
       "      <td>0</td>\n",
       "    </tr>\n",
       "    <tr>\n",
       "      <th>341874</th>\n",
       "      <td>jd65Fxpsab+p6Y6bkWr55Nu0rIW0HeC4TcxhzRPf61M=</td>\n",
       "      <td>0</td>\n",
       "    </tr>\n",
       "    <tr>\n",
       "      <th>407370</th>\n",
       "      <td>o0BPQDi2rOsYpSkftnaoMnT2kTRv8o3if/kQWFexKN0=</td>\n",
       "      <td>0</td>\n",
       "    </tr>\n",
       "    <tr>\n",
       "      <th>704627</th>\n",
       "      <td>IT+xyhv8kTqdb0fHamFScH/7bgmcd7M7+DTeA1iALz4=</td>\n",
       "      <td>0</td>\n",
       "    </tr>\n",
       "  </tbody>\n",
       "</table>\n",
       "</div>"
      ],
      "text/plain": [
       "                                                msno  is_churn\n",
       "626358  yQ1Vuk7eY1xYfH3RfpWH9kNHge/3svoZUJrIE3X8n0g=         0\n",
       "942191  UDkNk3peTC4h1GjPc4L6jfrE5g7zIok/8xo4l+jOl34=         0\n",
       "341874  jd65Fxpsab+p6Y6bkWr55Nu0rIW0HeC4TcxhzRPf61M=         0\n",
       "407370  o0BPQDi2rOsYpSkftnaoMnT2kTRv8o3if/kQWFexKN0=         0\n",
       "704627  IT+xyhv8kTqdb0fHamFScH/7bgmcd7M7+DTeA1iALz4=         0"
      ]
     },
     "execution_count": 3,
     "metadata": {},
     "output_type": "execute_result"
    }
   ],
   "source": [
    "churn_labels[:5]"
   ]
  },
  {
   "cell_type": "markdown",
   "metadata": {},
   "source": [
    "### Create Files with Data for Sample of 20,000 Users\n",
    "Next we create our own data files that contain the member profiles, transactions, and user logs of just our 20,000 members. We put the 20,000 member IDs into a set (along with `msno` so that we catch the header row of each file), and then we scan the original data files, looking for records that pertain to one of our member IDs. When we find relevant records, we write them to a separate CSV file. These filtered CSV files are significantly smaller and can be read into Python's memory."
   ]
  },
  {
   "cell_type": "code",
   "execution_count": 4,
   "metadata": {
    "collapsed": true
   },
   "outputs": [],
   "source": [
    "# Create set and add 'msno' so we catch the header row\n",
    "churn_labels2 = list(churn_labels.msno)\n",
    "churn_labels2.insert(0, 'msno')\n",
    "subset_ids = set(churn_labels2)"
   ]
  },
  {
   "cell_type": "code",
   "execution_count": 5,
   "metadata": {
    "collapsed": true
   },
   "outputs": [],
   "source": [
    "# Get filtered member data into CSV\n",
    "with open('data/members_v3.csv') as f:\n",
    "    with open('members_filtered.csv', 'w') as g:\n",
    "        for line in f:\n",
    "            this_id = line.split(',')[0]\n",
    "            if this_id in subset_ids:\n",
    "                g.write(line)"
   ]
  },
  {
   "cell_type": "code",
   "execution_count": 6,
   "metadata": {
    "collapsed": true
   },
   "outputs": [],
   "source": [
    "# Get filtered transaction data into CSV\n",
    "with open('data/transactions.csv') as f:\n",
    "    with open('transactions_filtered.csv', 'w') as g:\n",
    "        for line in f:\n",
    "            this_id = line.split(',')[0]\n",
    "            if this_id in subset_ids:\n",
    "                g.write(line)"
   ]
  },
  {
   "cell_type": "code",
   "execution_count": 7,
   "metadata": {
    "collapsed": true
   },
   "outputs": [],
   "source": [
    "# Get filtered user log data into CSV\n",
    "with open('data/user_logs.csv') as f:\n",
    "    with open('user_logs_filtered.csv', 'w') as g:\n",
    "        for line in f:\n",
    "            this_id = line.split(',')[0]\n",
    "            if this_id in subset_ids:\n",
    "                g.write(line)"
   ]
  },
  {
   "cell_type": "code",
   "execution_count": 8,
   "metadata": {},
   "outputs": [
    {
     "name": "stdout",
     "output_type": "stream",
     "text": [
      "MEMBERS RECORDS: 17,673\n",
      "TRANSACTION RECORDS: 318,261\n",
      "USER LOGS RECORDS: 4,925,235\n",
      "FILTERING OUT LOGS WITH BAD total_secs VALUES: 4,922,563\n"
     ]
    }
   ],
   "source": [
    "# Load filtered member data\n",
    "members = pd.read_csv('members_filtered.csv')\n",
    "print ('''MEMBERS RECORDS: {:,}'''.format(len(members)))\n",
    "\n",
    "# Load filtered transaction data\n",
    "trans_detail = pd.read_csv('transactions_filtered.csv')\n",
    "print ('''TRANSACTION RECORDS: {:,}'''.format(len(trans_detail)))\n",
    "\n",
    "# Load filtered user_log data and throw out a couple of bad records\n",
    "logs_detail = pd.read_csv('user_logs_filtered.csv')\n",
    "print ('''USER LOGS RECORDS: {:,}'''.format(len(logs_detail)))\n",
    "logs_detail = logs_detail[(logs_detail.total_secs > 0) & (logs_detail.total_secs <= 86400)]\n",
    "print ('''FILTERING OUT LOGS WITH BAD total_secs VALUES: {:,}'''.format(len(logs_detail)))\n"
   ]
  },
  {
   "cell_type": "markdown",
   "metadata": {},
   "source": [
    "There is a very small number of user logs (<0.1%) that we throw out because the data is unreasonable. The logs contain a variable `total_secs` which is the total number of seconds of songs that the user listened to on the day of the login. We remove the following two cases:\n",
    "+ `total_secs` $\\leq$ 0\n",
    "+ `total_secs` > 86,400 (the total number of a seconds in a day)"
   ]
  },
  {
   "cell_type": "markdown",
   "metadata": {},
   "source": [
    "The final data files consist of 17,673 member profiles, 318,261 transactions and 4,922,563 user_logs rows, which we aggregate and merge into the final dataset."
   ]
  },
  {
   "cell_type": "markdown",
   "metadata": {},
   "source": [
    "## Data Profiling, Feature Extraction and Aggregation"
   ]
  },
  {
   "cell_type": "markdown",
   "metadata": {},
   "source": [
    "### Members\n",
    "We take a look at the filtered member data. As noted above, there are fewer than 20,000 records in this dataset. This is because some users do not have member profiles."
   ]
  },
  {
   "cell_type": "code",
   "execution_count": 9,
   "metadata": {},
   "outputs": [
    {
     "data": {
      "text/html": [
       "<div>\n",
       "<style>\n",
       "    .dataframe thead tr:only-child th {\n",
       "        text-align: right;\n",
       "    }\n",
       "\n",
       "    .dataframe thead th {\n",
       "        text-align: left;\n",
       "    }\n",
       "\n",
       "    .dataframe tbody tr th {\n",
       "        vertical-align: top;\n",
       "    }\n",
       "</style>\n",
       "<table border=\"1\" class=\"dataframe\">\n",
       "  <thead>\n",
       "    <tr style=\"text-align: right;\">\n",
       "      <th></th>\n",
       "      <th>msno</th>\n",
       "      <th>city</th>\n",
       "      <th>bd</th>\n",
       "      <th>gender</th>\n",
       "      <th>registered_via</th>\n",
       "      <th>registration_init_time</th>\n",
       "    </tr>\n",
       "  </thead>\n",
       "  <tbody>\n",
       "    <tr>\n",
       "      <th>0</th>\n",
       "      <td>eIOUZ5I+NV/3EDfn/U/tMepn4FJt2SdzOrWGH1tNlYI=</td>\n",
       "      <td>5</td>\n",
       "      <td>24</td>\n",
       "      <td>male</td>\n",
       "      <td>3</td>\n",
       "      <td>20141025</td>\n",
       "    </tr>\n",
       "    <tr>\n",
       "      <th>1</th>\n",
       "      <td>+BJTJRs9+WEUO69OZ7HbkFMOYJ+FV45tA6foNlUrGqE=</td>\n",
       "      <td>1</td>\n",
       "      <td>0</td>\n",
       "      <td>NaN</td>\n",
       "      <td>4</td>\n",
       "      <td>20170120</td>\n",
       "    </tr>\n",
       "    <tr>\n",
       "      <th>2</th>\n",
       "      <td>YDnDgwmKMDQMmJL2U3aaxmwZ1i2NcABOdD1CXibBmh0=</td>\n",
       "      <td>14</td>\n",
       "      <td>47</td>\n",
       "      <td>female</td>\n",
       "      <td>9</td>\n",
       "      <td>20060427</td>\n",
       "    </tr>\n",
       "    <tr>\n",
       "      <th>3</th>\n",
       "      <td>3MgE7wEbKzAETdMljABlpYTUSoIJ3svHSK0nkIViKUM=</td>\n",
       "      <td>14</td>\n",
       "      <td>40</td>\n",
       "      <td>male</td>\n",
       "      <td>9</td>\n",
       "      <td>20061023</td>\n",
       "    </tr>\n",
       "    <tr>\n",
       "      <th>4</th>\n",
       "      <td>dI97ob9fpC75DPCBqtWCG7qfqKNNi/9F1PczUf/iNGA=</td>\n",
       "      <td>5</td>\n",
       "      <td>35</td>\n",
       "      <td>female</td>\n",
       "      <td>9</td>\n",
       "      <td>20070413</td>\n",
       "    </tr>\n",
       "  </tbody>\n",
       "</table>\n",
       "</div>"
      ],
      "text/plain": [
       "                                           msno  city  bd  gender  \\\n",
       "0  eIOUZ5I+NV/3EDfn/U/tMepn4FJt2SdzOrWGH1tNlYI=     5  24    male   \n",
       "1  +BJTJRs9+WEUO69OZ7HbkFMOYJ+FV45tA6foNlUrGqE=     1   0     NaN   \n",
       "2  YDnDgwmKMDQMmJL2U3aaxmwZ1i2NcABOdD1CXibBmh0=    14  47  female   \n",
       "3  3MgE7wEbKzAETdMljABlpYTUSoIJ3svHSK0nkIViKUM=    14  40    male   \n",
       "4  dI97ob9fpC75DPCBqtWCG7qfqKNNi/9F1PczUf/iNGA=     5  35  female   \n",
       "\n",
       "   registered_via  registration_init_time  \n",
       "0               3                20141025  \n",
       "1               4                20170120  \n",
       "2               9                20060427  \n",
       "3               9                20061023  \n",
       "4               9                20070413  "
      ]
     },
     "execution_count": 9,
     "metadata": {},
     "output_type": "execute_result"
    }
   ],
   "source": [
    "members.head()"
   ]
  },
  {
   "cell_type": "markdown",
   "metadata": {},
   "source": [
    "\n",
    " The absence of member data can point to some underlying attribute of the customer. For example: Those members whose personal information is not available might be at their own request to have their personal information deleted from the KKBox system or they did not complete their profile to begin with. We later account for this with a vectorized feature with indicators for whether the member data is missing (`NaN`), incomplete or complete."
   ]
  },
  {
   "cell_type": "markdown",
   "metadata": {},
   "source": [
    "The members file contains personal information such as member age, gender, city and registration method and date. We fix the member age variable and add some features:\n",
    "+ According to KKBox, member age (`bd`) has \"outlier values\" ranging from -7000 to 2015. We null out any values $\\leq$0 or >100, since those values can't be real ages.\n",
    "+ We add a column for `registration_month` (based on the registration date). We believe this could be important if, for example, memberships purchased for Christmas are less likely to be maintained than memberships purchased at other times of the year.\n",
    "+ `member_profile_complete` is an indicator for whether the member's profile has been completely filled out. If the member has any `NaN` values, it is considered incomplete. A weakness of this feature is that we don't know if there are nulls in the `city` or `registered_via` columns. (For example, it is possible that `city` = 1 means the city is unknown.)"
   ]
  },
  {
   "cell_type": "code",
   "execution_count": 10,
   "metadata": {
    "collapsed": true
   },
   "outputs": [],
   "source": [
    "# Transformations to member data\n",
    "\n",
    "# Replace impossible age values with NaN\n",
    "members['bd'] = members['bd'].apply(lambda x: np.NaN if (x <= 0 or x > 100) else x)\n",
    "\n",
    "# Add variable for registration month\n",
    "members['registration_month'] = pd.to_datetime(members['registration_init_time'], format='%Y%m%d').dt.month\n",
    "\n",
    "# Add variable for whether member profile is complete\n",
    "members['member_profile_complete'] = [not members.loc[x,:].isnull().any() for x in range(len(members))]"
   ]
  },
  {
   "cell_type": "code",
   "execution_count": 11,
   "metadata": {},
   "outputs": [
    {
     "name": "stdout",
     "output_type": "stream",
     "text": [
      "(17673, 8)\n"
     ]
    },
    {
     "data": {
      "text/html": [
       "<div>\n",
       "<style>\n",
       "    .dataframe thead tr:only-child th {\n",
       "        text-align: right;\n",
       "    }\n",
       "\n",
       "    .dataframe thead th {\n",
       "        text-align: left;\n",
       "    }\n",
       "\n",
       "    .dataframe tbody tr th {\n",
       "        vertical-align: top;\n",
       "    }\n",
       "</style>\n",
       "<table border=\"1\" class=\"dataframe\">\n",
       "  <thead>\n",
       "    <tr style=\"text-align: right;\">\n",
       "      <th></th>\n",
       "      <th>msno</th>\n",
       "      <th>city</th>\n",
       "      <th>bd</th>\n",
       "      <th>gender</th>\n",
       "      <th>registered_via</th>\n",
       "      <th>registration_init_time</th>\n",
       "      <th>registration_month</th>\n",
       "      <th>member_profile_complete</th>\n",
       "    </tr>\n",
       "  </thead>\n",
       "  <tbody>\n",
       "    <tr>\n",
       "      <th>0</th>\n",
       "      <td>eIOUZ5I+NV/3EDfn/U/tMepn4FJt2SdzOrWGH1tNlYI=</td>\n",
       "      <td>5</td>\n",
       "      <td>24.0</td>\n",
       "      <td>male</td>\n",
       "      <td>3</td>\n",
       "      <td>20141025</td>\n",
       "      <td>10</td>\n",
       "      <td>True</td>\n",
       "    </tr>\n",
       "    <tr>\n",
       "      <th>1</th>\n",
       "      <td>+BJTJRs9+WEUO69OZ7HbkFMOYJ+FV45tA6foNlUrGqE=</td>\n",
       "      <td>1</td>\n",
       "      <td>NaN</td>\n",
       "      <td>NaN</td>\n",
       "      <td>4</td>\n",
       "      <td>20170120</td>\n",
       "      <td>1</td>\n",
       "      <td>False</td>\n",
       "    </tr>\n",
       "    <tr>\n",
       "      <th>2</th>\n",
       "      <td>YDnDgwmKMDQMmJL2U3aaxmwZ1i2NcABOdD1CXibBmh0=</td>\n",
       "      <td>14</td>\n",
       "      <td>47.0</td>\n",
       "      <td>female</td>\n",
       "      <td>9</td>\n",
       "      <td>20060427</td>\n",
       "      <td>4</td>\n",
       "      <td>True</td>\n",
       "    </tr>\n",
       "    <tr>\n",
       "      <th>3</th>\n",
       "      <td>3MgE7wEbKzAETdMljABlpYTUSoIJ3svHSK0nkIViKUM=</td>\n",
       "      <td>14</td>\n",
       "      <td>40.0</td>\n",
       "      <td>male</td>\n",
       "      <td>9</td>\n",
       "      <td>20061023</td>\n",
       "      <td>10</td>\n",
       "      <td>True</td>\n",
       "    </tr>\n",
       "    <tr>\n",
       "      <th>4</th>\n",
       "      <td>dI97ob9fpC75DPCBqtWCG7qfqKNNi/9F1PczUf/iNGA=</td>\n",
       "      <td>5</td>\n",
       "      <td>35.0</td>\n",
       "      <td>female</td>\n",
       "      <td>9</td>\n",
       "      <td>20070413</td>\n",
       "      <td>4</td>\n",
       "      <td>True</td>\n",
       "    </tr>\n",
       "  </tbody>\n",
       "</table>\n",
       "</div>"
      ],
      "text/plain": [
       "                                           msno  city    bd  gender  \\\n",
       "0  eIOUZ5I+NV/3EDfn/U/tMepn4FJt2SdzOrWGH1tNlYI=     5  24.0    male   \n",
       "1  +BJTJRs9+WEUO69OZ7HbkFMOYJ+FV45tA6foNlUrGqE=     1   NaN     NaN   \n",
       "2  YDnDgwmKMDQMmJL2U3aaxmwZ1i2NcABOdD1CXibBmh0=    14  47.0  female   \n",
       "3  3MgE7wEbKzAETdMljABlpYTUSoIJ3svHSK0nkIViKUM=    14  40.0    male   \n",
       "4  dI97ob9fpC75DPCBqtWCG7qfqKNNi/9F1PczUf/iNGA=     5  35.0  female   \n",
       "\n",
       "   registered_via  registration_init_time  registration_month  \\\n",
       "0               3                20141025                  10   \n",
       "1               4                20170120                   1   \n",
       "2               9                20060427                   4   \n",
       "3               9                20061023                  10   \n",
       "4               9                20070413                   4   \n",
       "\n",
       "   member_profile_complete  \n",
       "0                     True  \n",
       "1                    False  \n",
       "2                     True  \n",
       "3                     True  \n",
       "4                     True  "
      ]
     },
     "execution_count": 11,
     "metadata": {},
     "output_type": "execute_result"
    }
   ],
   "source": [
    "# See final member data\n",
    "print (members.shape)\n",
    "members.head()"
   ]
  },
  {
   "cell_type": "markdown",
   "metadata": {},
   "source": [
    "**Now let's review the distribution of the member variables:**"
   ]
  },
  {
   "cell_type": "markdown",
   "metadata": {},
   "source": [
    "+ There are 21 possible cities, and city #1 is the most popular by far.\n",
    "+ There are 5 registration methods, which might correspond to things like mobile, desktop, or certain internet browsers, but we aren't given this information."
   ]
  },
  {
   "cell_type": "code",
   "execution_count": 12,
   "metadata": {},
   "outputs": [
    {
     "data": {
      "text/plain": [
       "<matplotlib.text.Text at 0x11368a3c8>"
      ]
     },
     "execution_count": 12,
     "metadata": {},
     "output_type": "execute_result"
    },
    {
     "data": {
      "image/png": "[encoded data removed]",
      "text/plain": [
       "<matplotlib.figure.Figure at 0x11264d2b0>"
      ]
     },
     "metadata": {},
     "output_type": "display_data"
    }
   ],
   "source": [
    "plt.figure(figsize=(14, 4))\n",
    "\n",
    "plt.subplot(1, 2, 1)\n",
    "c = members.groupby(['city'], as_index=False)['msno'].count()\n",
    "plt.bar(c.city, c.msno)\n",
    "plt.xlabel('City Number')\n",
    "plt.xticks(np.array(c.city))\n",
    "plt.ylabel('Member Count')\n",
    "\n",
    "plt.subplot(1, 2, 2)\n",
    "rv = members.groupby(['registered_via'], as_index=False)['msno'].count()\n",
    "plt.bar(rv.registered_via, rv.msno)\n",
    "plt.xlabel('Registered Via')\n",
    "plt.xticks(np.array(rv.registered_via))\n",
    "plt.ylabel('Member Count')"
   ]
  },
  {
   "cell_type": "markdown",
   "metadata": {},
   "source": [
    "+ KKBox was founded in 2004, so the first registrations occur then. Annual registrations are flat for a few years, until they start rising quickly in 2010. We only have 2 months of data for 2017, so there are not many 2017 registrations in this dataset.\n",
    "+ There is a distinct V shape in the distribution of registration month, but it is not immediately clear why registrations are lower in April and higher at the end of the year."
   ]
  },
  {
   "cell_type": "code",
   "execution_count": 13,
   "metadata": {},
   "outputs": [
    {
     "data": {
      "text/plain": [
       "<matplotlib.text.Text at 0x118592828>"
      ]
     },
     "execution_count": 13,
     "metadata": {},
     "output_type": "execute_result"
    },
    {
     "data": {
      "image/png": "[encoded data removed]",
      "text/plain": [
       "<matplotlib.figure.Figure at 0x11264d438>"
      ]
     },
     "metadata": {},
     "output_type": "display_data"
    }
   ],
   "source": [
    "plt.figure(figsize=(14, 4))\n",
    "\n",
    "plt.subplot(1, 2, 1)\n",
    "ry = pd.to_datetime(members.registration_init_time, format='%Y%m%d').dt.year\n",
    "plt.hist(ry, bins=np.arange(float(np.min(ry))-0.5, float(np.max(ry))+1.5))\n",
    "plt.xlabel('Registration Year')\n",
    "plt.xticks(np.arange(min(ry), max(ry)+1, 2))\n",
    "plt.ylabel('Member Count')\n",
    "\n",
    "plt.subplot(1, 2, 2)\n",
    "plt.hist(members.registration_month, bins=np.arange(0.5, 13.5))\n",
    "plt.xlabel('Registration Month')\n",
    "plt.xticks(np.arange(1, 13))\n",
    "plt.ylabel('Member Count')"
   ]
  },
  {
   "cell_type": "markdown",
   "metadata": {},
   "source": [
    "+ Members are fairly young, with a median age of 28 and mean of 30.\n",
    "+ The majority of members do not provide gender information. Among those that do, there is a pretty even split between males and females.\n",
    "+ Less than half of members have fully completed their profiles. (Keeping in mind that the true number could be even lower than 43%, because there are two columns whose values we don't know the meaning of.)"
   ]
  },
  {
   "cell_type": "code",
   "execution_count": 14,
   "metadata": {},
   "outputs": [
    {
     "name": "stdout",
     "output_type": "stream",
     "text": [
      "count    7943.0\n",
      "mean       30.0\n",
      "std         9.0\n",
      "min         4.0\n",
      "25%        24.0\n",
      "50%        28.0\n",
      "75%        34.0\n",
      "max        96.0\n",
      "Name: bd, dtype: float64\n",
      "\n",
      "NaN       0.5504\n",
      "male      0.2349\n",
      "female    0.2147\n",
      "Name: gender, dtype: float64\n",
      "\n",
      "False    0.5615\n",
      "True     0.4385\n",
      "Name: member_profile_complete, dtype: float64\n"
     ]
    }
   ],
   "source": [
    "print ('''{}\n",
    "\n",
    "{}\n",
    "\n",
    "{}'''.format(members.bd.describe().round(1),\n",
    "             members.gender.value_counts(normalize=True, dropna=False).round(4),\n",
    "             members.member_profile_complete.value_counts(normalize=True).round(4)))"
   ]
  },
  {
   "cell_type": "markdown",
   "metadata": {},
   "source": [
    "### Transactions\n",
    "Reading in the filtered transactions file, we can see that all members have transaction information. There are approximately 16 transactions per member."
   ]
  },
  {
   "cell_type": "code",
   "execution_count": 15,
   "metadata": {},
   "outputs": [
    {
     "name": "stdout",
     "output_type": "stream",
     "text": [
      "Unique Number of Members in Transactions File: 20,000\n",
      "Average Transactions per Member: 15.9\n"
     ]
    },
    {
     "data": {
      "text/html": [
       "<div>\n",
       "<style>\n",
       "    .dataframe thead tr:only-child th {\n",
       "        text-align: right;\n",
       "    }\n",
       "\n",
       "    .dataframe thead th {\n",
       "        text-align: left;\n",
       "    }\n",
       "\n",
       "    .dataframe tbody tr th {\n",
       "        vertical-align: top;\n",
       "    }\n",
       "</style>\n",
       "<table border=\"1\" class=\"dataframe\">\n",
       "  <thead>\n",
       "    <tr style=\"text-align: right;\">\n",
       "      <th></th>\n",
       "      <th>msno</th>\n",
       "      <th>payment_method_id</th>\n",
       "      <th>payment_plan_days</th>\n",
       "      <th>plan_list_price</th>\n",
       "      <th>actual_amount_paid</th>\n",
       "      <th>is_auto_renew</th>\n",
       "      <th>transaction_date</th>\n",
       "      <th>membership_expire_date</th>\n",
       "      <th>is_cancel</th>\n",
       "    </tr>\n",
       "  </thead>\n",
       "  <tbody>\n",
       "    <tr>\n",
       "      <th>0</th>\n",
       "      <td>rSdCksIr/MGJ5DXs7R5OyXU13W8u80sijZiFqg6NnLY=</td>\n",
       "      <td>39</td>\n",
       "      <td>31</td>\n",
       "      <td>149</td>\n",
       "      <td>149</td>\n",
       "      <td>1</td>\n",
       "      <td>20150131</td>\n",
       "      <td>20150303</td>\n",
       "      <td>0</td>\n",
       "    </tr>\n",
       "    <tr>\n",
       "      <th>1</th>\n",
       "      <td>kAa1U+BoLXO23mjzMKXSObDhCeet663N8uDOE/QujLM=</td>\n",
       "      <td>39</td>\n",
       "      <td>31</td>\n",
       "      <td>149</td>\n",
       "      <td>149</td>\n",
       "      <td>1</td>\n",
       "      <td>20150131</td>\n",
       "      <td>20150326</td>\n",
       "      <td>0</td>\n",
       "    </tr>\n",
       "    <tr>\n",
       "      <th>2</th>\n",
       "      <td>D+W1Mk6FI8cY6uXvNPwwslnL1WPaiYuoiM3bX/YqjLk=</td>\n",
       "      <td>31</td>\n",
       "      <td>30</td>\n",
       "      <td>149</td>\n",
       "      <td>149</td>\n",
       "      <td>1</td>\n",
       "      <td>20160331</td>\n",
       "      <td>20160430</td>\n",
       "      <td>0</td>\n",
       "    </tr>\n",
       "    <tr>\n",
       "      <th>3</th>\n",
       "      <td>CpF4AnwzjYroFT6tifgmFF3eIo84fnTJp3OIZnvDvCw=</td>\n",
       "      <td>41</td>\n",
       "      <td>30</td>\n",
       "      <td>149</td>\n",
       "      <td>149</td>\n",
       "      <td>1</td>\n",
       "      <td>20160430</td>\n",
       "      <td>20160601</td>\n",
       "      <td>0</td>\n",
       "    </tr>\n",
       "    <tr>\n",
       "      <th>4</th>\n",
       "      <td>mBNBB4YhEc6TQaDJX9XmwpPyMgPXt++cJ5ry8CCpeS8=</td>\n",
       "      <td>39</td>\n",
       "      <td>30</td>\n",
       "      <td>149</td>\n",
       "      <td>149</td>\n",
       "      <td>1</td>\n",
       "      <td>20151202</td>\n",
       "      <td>20160119</td>\n",
       "      <td>0</td>\n",
       "    </tr>\n",
       "  </tbody>\n",
       "</table>\n",
       "</div>"
      ],
      "text/plain": [
       "                                           msno  payment_method_id  \\\n",
       "0  rSdCksIr/MGJ5DXs7R5OyXU13W8u80sijZiFqg6NnLY=                 39   \n",
       "1  kAa1U+BoLXO23mjzMKXSObDhCeet663N8uDOE/QujLM=                 39   \n",
       "2  D+W1Mk6FI8cY6uXvNPwwslnL1WPaiYuoiM3bX/YqjLk=                 31   \n",
       "3  CpF4AnwzjYroFT6tifgmFF3eIo84fnTJp3OIZnvDvCw=                 41   \n",
       "4  mBNBB4YhEc6TQaDJX9XmwpPyMgPXt++cJ5ry8CCpeS8=                 39   \n",
       "\n",
       "   payment_plan_days  plan_list_price  actual_amount_paid  is_auto_renew  \\\n",
       "0                 31              149                 149              1   \n",
       "1                 31              149                 149              1   \n",
       "2                 30              149                 149              1   \n",
       "3                 30              149                 149              1   \n",
       "4                 30              149                 149              1   \n",
       "\n",
       "   transaction_date  membership_expire_date  is_cancel  \n",
       "0          20150131                20150303          0  \n",
       "1          20150131                20150326          0  \n",
       "2          20160331                20160430          0  \n",
       "3          20160430                20160601          0  \n",
       "4          20151202                20160119          0  "
      ]
     },
     "execution_count": 15,
     "metadata": {},
     "output_type": "execute_result"
    }
   ],
   "source": [
    "unq_msno = trans_detail.msno.nunique()\n",
    "print ('''Unique Number of Members in Transactions File: {:,}'''.format(unq_msno))\n",
    "print ('''Average Transactions per Member: {:.1f}'''.format(len(trans_detail) / unq_msno))\n",
    "trans_detail.head()"
   ]
  },
  {
   "cell_type": "markdown",
   "metadata": {},
   "source": [
    "The transactions file contains information on each payment activity, including the date it was initiated, the amount paid and the payment plan of the customer, as well as an indicator for whether the payment was on auto-renew."
   ]
  },
  {
   "cell_type": "markdown",
   "metadata": {},
   "source": [
    "We now add a few columns to the transaction dataset before aggregating it into a single record per user. First, we pull in the registration date for each member, when it is available. This will be used to calculate customer lifetime. Approximately 90% of transactions can be associated with a member registration date."
   ]
  },
  {
   "cell_type": "code",
   "execution_count": 16,
   "metadata": {},
   "outputs": [
    {
     "name": "stdout",
     "output_type": "stream",
     "text": [
      "TRANSACTIONS FROM MEMBERS WITH A MEMBER PROFILE: 89.9%\n"
     ]
    }
   ],
   "source": [
    "# Transformations to transaction data\n",
    "\n",
    "# 1. Pull in registration date for each member\n",
    "\n",
    "def get_reg_date(df):\n",
    "    df = pd.merge(df, members[['msno','registration_init_time']], on='msno', how='left')\n",
    "    print('''TRANSACTIONS FROM MEMBERS WITH A MEMBER PROFILE: {:.1f}%'''.format(100.0 * df['registration_init_time'].count() / len(df)))\n",
    "    return df\n",
    "\n",
    "trans_detail = get_reg_date(trans_detail)"
   ]
  },
  {
   "cell_type": "markdown",
   "metadata": {},
   "source": [
    "Next we will recalculate some expiration dates that are incorrect. These calculations are based on the idea that `transaction_date` + `payment_plan_days` should be relatively close to `membership_expire_date`. We believe the transaction dates are correct because they fall within the expected range (Jan 2015 - Feb 2017), but the expiration dates are sometimes incorrect because their range includes some impossible values (e.g. 1/1/1970).\n",
    "+ An expiration date can be **too big** if the difference between expiration date and transaction date is more than a month *larger* than the payment plan days. (E.g. a transaction on 5/1/16 for a 30 day plan, but the expiration date is on 12/1/16.)\n",
    "+ An expiration date can be **too small** if the difference between expiration date and transaction date is more than a week *smaller* than the payment plan days. (E.g. a transaction on 5/1/16 for a 30 day plan, but the expiration date is on 5/10/16.)\n",
    "\n",
    "When we find an expiration date out of range, we recalculate it, and the calculation depends on whether the transaction is a cancellation transaction.\n",
    "+ If `is_cancel` = 0: new expire date = `transaction_date` + `payment_plan_days` + 1 \n",
    "+ If `is_cancel` = 1: new expire date = `transaction_date`"
   ]
  },
  {
   "cell_type": "code",
   "execution_count": 17,
   "metadata": {},
   "outputs": [
    {
     "name": "stdout",
     "output_type": "stream",
     "text": [
      "EXPIRATION DATES OUT OF RANGE:\n",
      "    Expire date too small: 1.6%\n",
      "    Expire date too big: 2.4%\n",
      "    \n"
     ]
    }
   ],
   "source": [
    "# Transformations to transaction data\n",
    "\n",
    "# 2. Find expiration dates that are out of range and re-calculate them\n",
    "\n",
    "def new_expire_date(row):\n",
    "    if row['expire_too_small'] or row['expire_too_big']:\n",
    "        if row['is_cancel'] == 1:\n",
    "            return row['transaction_date']\n",
    "        else:\n",
    "            new_dttm = pd.to_datetime(row['transaction_date'], format='%Y%m%d') + dt.timedelta(days=row['payment_plan_days']+1)\n",
    "            return (new_dttm.year * 10000) + (new_dttm.month * 100) + new_dttm.day\n",
    "    else:\n",
    "        return row['membership_expire_date']\n",
    "\n",
    "def get_new_expire_date(df):\n",
    "    # Get datetime version of dates for calculations\n",
    "    trans_dttm = pd.to_datetime(df['transaction_date'], format='%Y%m%d')\n",
    "    expire_dttm = pd.to_datetime(df['membership_expire_date'], format='%Y%m%d')\n",
    "    diff = expire_dttm.sub(trans_dttm).dt.days\n",
    "\n",
    "    # TOO SMALL: (expire date - transaction date) < (plan days - 1 week)\n",
    "    df['expire_too_small'] = diff < (df['payment_plan_days'] - 7)\n",
    "\n",
    "    # TOO BIG: (expire date - transaction date) > (plan days + 1 day + 1 month)\n",
    "    df['expire_too_big'] = diff > (df['payment_plan_days'] + 32)\n",
    "\n",
    "    print( '''EXPIRATION DATES OUT OF RANGE:\n",
    "    Expire date too small: {:.1f}%\n",
    "    Expire date too big: {:.1f}%\n",
    "    '''.format(100.0 * df['expire_too_small'].mean(), 100.0 * df['expire_too_big'].mean()))\n",
    "\n",
    "    # Calculate what the expiration date *should* be\n",
    "    df['new_expire_date'] = df.apply(lambda x: new_expire_date(x), axis=1)\n",
    "\n",
    "get_new_expire_date(trans_detail)"
   ]
  },
  {
   "cell_type": "markdown",
   "metadata": {},
   "source": [
    "Finally we add a Boolean variable for whether the transaction payment was late. We define a payment as late if the transaction occurs _after_ the expiration date of the previous transaction. So for example, if my membership expires on March 31 and I don't get around to making my next payment until April 10, my payment is late and I had a gap in coverage of 10 days. Users who do this (as opposed to auto-renewing each month) may be at a higher risk for churning. By definition, a user's first transaction can never be considered late since there are no previous transactions."
   ]
  },
  {
   "cell_type": "code",
   "execution_count": 18,
   "metadata": {},
   "outputs": [
    {
     "name": "stderr",
     "output_type": "stream",
     "text": [
      "//anaconda/lib/python3.5/site-packages/ipykernel/__main__.py:16: SettingWithCopyWarning: \n",
      "A value is trying to be set on a copy of a slice from a DataFrame.\n",
      "Try using .loc[row_indexer,col_indexer] = value instead\n",
      "\n",
      "See the caveats in the documentation: http://pandas.pydata.org/pandas-docs/stable/indexing.html#indexing-view-versus-copy\n"
     ]
    },
    {
     "name": "stdout",
     "output_type": "stream",
     "text": [
      "LATE PAYMENTS: 18.0%\n"
     ]
    }
   ],
   "source": [
    "# Transformations to transaction data\n",
    "\n",
    "# 3. Boolean for whether payment is late ----> 18.7% of transactions\n",
    "\n",
    "def get_is_late(df):\n",
    "    # Sort transactions by most recent first and reset index\n",
    "    df.sort_values(by=['msno','transaction_date','new_expire_date'], ascending=False, inplace=True)\n",
    "    df.reset_index(drop=True, inplace=True)\n",
    "\n",
    "    # Add rank variable for transactions (most recent transaction first)\n",
    "    df['rank'] = df.groupby(['msno']).transaction_date.rank(ascending=False)\n",
    "\n",
    "    # Create list of transactions and reduce their rank by 1 (rank of the previous transaction)\n",
    "    prev_trans = df[['rank','msno','transaction_date','new_expire_date']]\n",
    "    prev_trans.columns = ['rank','msno','prev_trans_date','prev_expire_date']\n",
    "    prev_trans['rank'] = prev_trans['rank'].apply(lambda x: x - 1)\n",
    "\n",
    "    # Gets transaction & expire date from previous transaction in line with each record\n",
    "    df = df.merge(prev_trans, how='left', on=['msno','rank'])\n",
    "\n",
    "    # Late if: current transaction date > previous expire date\n",
    "    df['is_late'] = df['transaction_date'] > df['prev_expire_date']\n",
    "    df.drop(['rank','prev_trans_date','prev_expire_date'], axis=1, inplace=True)\n",
    "    \n",
    "    print ('''LATE PAYMENTS: {:.1f}%'''.format(100.0 * df['is_late'].mean()))\n",
    "    return df\n",
    "\n",
    "trans_detail = get_is_late(trans_detail)"
   ]
  },
  {
   "cell_type": "markdown",
   "metadata": {},
   "source": [
    "We now have all the columns we need in the transaction dataset, so let's take a look at them and their distributions."
   ]
  },
  {
   "cell_type": "code",
   "execution_count": 19,
   "metadata": {},
   "outputs": [
    {
     "name": "stdout",
     "output_type": "stream",
     "text": [
      "(318261, 14)\n"
     ]
    },
    {
     "data": {
      "text/html": [
       "<div>\n",
       "<style>\n",
       "    .dataframe thead tr:only-child th {\n",
       "        text-align: right;\n",
       "    }\n",
       "\n",
       "    .dataframe thead th {\n",
       "        text-align: left;\n",
       "    }\n",
       "\n",
       "    .dataframe tbody tr th {\n",
       "        vertical-align: top;\n",
       "    }\n",
       "</style>\n",
       "<table border=\"1\" class=\"dataframe\">\n",
       "  <thead>\n",
       "    <tr style=\"text-align: right;\">\n",
       "      <th></th>\n",
       "      <th>msno</th>\n",
       "      <th>payment_method_id</th>\n",
       "      <th>payment_plan_days</th>\n",
       "      <th>plan_list_price</th>\n",
       "      <th>actual_amount_paid</th>\n",
       "      <th>is_auto_renew</th>\n",
       "      <th>transaction_date</th>\n",
       "      <th>membership_expire_date</th>\n",
       "      <th>is_cancel</th>\n",
       "      <th>registration_init_time</th>\n",
       "      <th>expire_too_small</th>\n",
       "      <th>expire_too_big</th>\n",
       "      <th>new_expire_date</th>\n",
       "      <th>is_late</th>\n",
       "    </tr>\n",
       "  </thead>\n",
       "  <tbody>\n",
       "    <tr>\n",
       "      <th>0</th>\n",
       "      <td>zztRj67GpP0kdrpfKJ4X4bUrF+ljVCkR0K8cRDIbzRI=</td>\n",
       "      <td>41</td>\n",
       "      <td>30</td>\n",
       "      <td>99</td>\n",
       "      <td>99</td>\n",
       "      <td>1</td>\n",
       "      <td>20170225</td>\n",
       "      <td>20170325</td>\n",
       "      <td>0</td>\n",
       "      <td>20160825.0</td>\n",
       "      <td>False</td>\n",
       "      <td>False</td>\n",
       "      <td>20170325</td>\n",
       "      <td>False</td>\n",
       "    </tr>\n",
       "    <tr>\n",
       "      <th>1</th>\n",
       "      <td>zztRj67GpP0kdrpfKJ4X4bUrF+ljVCkR0K8cRDIbzRI=</td>\n",
       "      <td>41</td>\n",
       "      <td>30</td>\n",
       "      <td>99</td>\n",
       "      <td>99</td>\n",
       "      <td>1</td>\n",
       "      <td>20170125</td>\n",
       "      <td>20170225</td>\n",
       "      <td>0</td>\n",
       "      <td>20160825.0</td>\n",
       "      <td>False</td>\n",
       "      <td>False</td>\n",
       "      <td>20170225</td>\n",
       "      <td>False</td>\n",
       "    </tr>\n",
       "    <tr>\n",
       "      <th>2</th>\n",
       "      <td>zztRj67GpP0kdrpfKJ4X4bUrF+ljVCkR0K8cRDIbzRI=</td>\n",
       "      <td>41</td>\n",
       "      <td>30</td>\n",
       "      <td>99</td>\n",
       "      <td>99</td>\n",
       "      <td>1</td>\n",
       "      <td>20161225</td>\n",
       "      <td>20170125</td>\n",
       "      <td>0</td>\n",
       "      <td>20160825.0</td>\n",
       "      <td>False</td>\n",
       "      <td>False</td>\n",
       "      <td>20170125</td>\n",
       "      <td>False</td>\n",
       "    </tr>\n",
       "    <tr>\n",
       "      <th>3</th>\n",
       "      <td>zztRj67GpP0kdrpfKJ4X4bUrF+ljVCkR0K8cRDIbzRI=</td>\n",
       "      <td>41</td>\n",
       "      <td>30</td>\n",
       "      <td>99</td>\n",
       "      <td>99</td>\n",
       "      <td>1</td>\n",
       "      <td>20161125</td>\n",
       "      <td>20161225</td>\n",
       "      <td>0</td>\n",
       "      <td>20160825.0</td>\n",
       "      <td>False</td>\n",
       "      <td>False</td>\n",
       "      <td>20161225</td>\n",
       "      <td>False</td>\n",
       "    </tr>\n",
       "    <tr>\n",
       "      <th>4</th>\n",
       "      <td>zztRj67GpP0kdrpfKJ4X4bUrF+ljVCkR0K8cRDIbzRI=</td>\n",
       "      <td>41</td>\n",
       "      <td>30</td>\n",
       "      <td>99</td>\n",
       "      <td>99</td>\n",
       "      <td>1</td>\n",
       "      <td>20161025</td>\n",
       "      <td>20161125</td>\n",
       "      <td>0</td>\n",
       "      <td>20160825.0</td>\n",
       "      <td>False</td>\n",
       "      <td>False</td>\n",
       "      <td>20161125</td>\n",
       "      <td>False</td>\n",
       "    </tr>\n",
       "  </tbody>\n",
       "</table>\n",
       "</div>"
      ],
      "text/plain": [
       "                                           msno  payment_method_id  \\\n",
       "0  zztRj67GpP0kdrpfKJ4X4bUrF+ljVCkR0K8cRDIbzRI=                 41   \n",
       "1  zztRj67GpP0kdrpfKJ4X4bUrF+ljVCkR0K8cRDIbzRI=                 41   \n",
       "2  zztRj67GpP0kdrpfKJ4X4bUrF+ljVCkR0K8cRDIbzRI=                 41   \n",
       "3  zztRj67GpP0kdrpfKJ4X4bUrF+ljVCkR0K8cRDIbzRI=                 41   \n",
       "4  zztRj67GpP0kdrpfKJ4X4bUrF+ljVCkR0K8cRDIbzRI=                 41   \n",
       "\n",
       "   payment_plan_days  plan_list_price  actual_amount_paid  is_auto_renew  \\\n",
       "0                 30               99                  99              1   \n",
       "1                 30               99                  99              1   \n",
       "2                 30               99                  99              1   \n",
       "3                 30               99                  99              1   \n",
       "4                 30               99                  99              1   \n",
       "\n",
       "   transaction_date  membership_expire_date  is_cancel  \\\n",
       "0          20170225                20170325          0   \n",
       "1          20170125                20170225          0   \n",
       "2          20161225                20170125          0   \n",
       "3          20161125                20161225          0   \n",
       "4          20161025                20161125          0   \n",
       "\n",
       "   registration_init_time  expire_too_small  expire_too_big  new_expire_date  \\\n",
       "0              20160825.0             False           False         20170325   \n",
       "1              20160825.0             False           False         20170225   \n",
       "2              20160825.0             False           False         20170125   \n",
       "3              20160825.0             False           False         20161225   \n",
       "4              20160825.0             False           False         20161125   \n",
       "\n",
       "   is_late  \n",
       "0    False  \n",
       "1    False  \n",
       "2    False  \n",
       "3    False  \n",
       "4    False  "
      ]
     },
     "execution_count": 19,
     "metadata": {},
     "output_type": "execute_result"
    }
   ],
   "source": [
    "# See final transaction detail\n",
    "print (trans_detail.shape)\n",
    "trans_detail.head()"
   ]
  },
  {
   "cell_type": "markdown",
   "metadata": {},
   "source": [
    "There are several payment method IDs, and #41 is the most popular. Unfortunately, we do not know what the numbers correspond to. We can only guess that the most popular methods are credit cards or mobile payment apps."
   ]
  },
  {
   "cell_type": "code",
   "execution_count": 20,
   "metadata": {},
   "outputs": [
    {
     "data": {
      "text/plain": [
       "<matplotlib.text.Text at 0x10ef626d8>"
      ]
     },
     "execution_count": 20,
     "metadata": {},
     "output_type": "execute_result"
    },
    {
     "data": {
      "image/png": "[encoded data removed]",
      "text/plain": [
       "<matplotlib.figure.Figure at 0x10fc71dd8>"
      ]
     },
     "metadata": {},
     "output_type": "display_data"
    }
   ],
   "source": [
    "pmi = trans_detail.groupby(['payment_method_id'], as_index=False)['msno'].count()\n",
    "plt.figure(figsize=(10,4))\n",
    "plt.bar(pmi.payment_method_id, pmi.msno)\n",
    "plt.xlabel('Payment Method ID')\n",
    "plt.xticks(np.array(pmi.payment_method_id))\n",
    "plt.ylabel('Member Count')"
   ]
  },
  {
   "cell_type": "markdown",
   "metadata": {},
   "source": [
    "The majority of transactions are for 30 day plans, but they can also range up to 450 days (15 months). It is also popular for users to take a 7-day free trial."
   ]
  },
  {
   "cell_type": "code",
   "execution_count": 21,
   "metadata": {},
   "outputs": [
    {
     "data": {
      "text/plain": [
       "count    318261.0\n",
       "mean         29.8\n",
       "std          16.4\n",
       "min           0.0\n",
       "25%          30.0\n",
       "50%          30.0\n",
       "75%          30.0\n",
       "max         450.0\n",
       "Name: payment_plan_days, dtype: float64"
      ]
     },
     "execution_count": 21,
     "metadata": {},
     "output_type": "execute_result"
    }
   ],
   "source": [
    "trans_detail.payment_plan_days.describe().round(1)"
   ]
  },
  {
   "cell_type": "markdown",
   "metadata": {},
   "source": [
    "Plan prices are in Taiwanese dollars. The list price for 30 days plans is usually \\$149, so we see \\$149 listed as the 50th and 75th percentiles of both `plan_list_price` and `actual_amount_paid`. Plans generally get more expensive as they get longer, and the most expensive plan (\\$2,000) was for 400 days. In general, the amount people actually paid for their streaming plans is the same as the list price. However, we were surprised to see the mean payment is actually slightly larger than the mean list price, when we expected the reverse due to discounts and sales."
   ]
  },
  {
   "cell_type": "code",
   "execution_count": 22,
   "metadata": {},
   "outputs": [
    {
     "data": {
      "text/html": [
       "<div>\n",
       "<style>\n",
       "    .dataframe thead tr:only-child th {\n",
       "        text-align: right;\n",
       "    }\n",
       "\n",
       "    .dataframe thead th {\n",
       "        text-align: left;\n",
       "    }\n",
       "\n",
       "    .dataframe tbody tr th {\n",
       "        vertical-align: top;\n",
       "    }\n",
       "</style>\n",
       "<table border=\"1\" class=\"dataframe\">\n",
       "  <thead>\n",
       "    <tr style=\"text-align: right;\">\n",
       "      <th></th>\n",
       "      <th>plan_list_price</th>\n",
       "      <th>actual_amount_paid</th>\n",
       "    </tr>\n",
       "  </thead>\n",
       "  <tbody>\n",
       "    <tr>\n",
       "      <th>count</th>\n",
       "      <td>318261.0</td>\n",
       "      <td>318261.0</td>\n",
       "    </tr>\n",
       "    <tr>\n",
       "      <th>mean</th>\n",
       "      <td>131.8</td>\n",
       "      <td>136.2</td>\n",
       "    </tr>\n",
       "    <tr>\n",
       "      <th>std</th>\n",
       "      <td>74.0</td>\n",
       "      <td>70.8</td>\n",
       "    </tr>\n",
       "    <tr>\n",
       "      <th>min</th>\n",
       "      <td>0.0</td>\n",
       "      <td>0.0</td>\n",
       "    </tr>\n",
       "    <tr>\n",
       "      <th>25%</th>\n",
       "      <td>99.0</td>\n",
       "      <td>99.0</td>\n",
       "    </tr>\n",
       "    <tr>\n",
       "      <th>50%</th>\n",
       "      <td>149.0</td>\n",
       "      <td>149.0</td>\n",
       "    </tr>\n",
       "    <tr>\n",
       "      <th>75%</th>\n",
       "      <td>149.0</td>\n",
       "      <td>149.0</td>\n",
       "    </tr>\n",
       "    <tr>\n",
       "      <th>max</th>\n",
       "      <td>2000.0</td>\n",
       "      <td>2000.0</td>\n",
       "    </tr>\n",
       "  </tbody>\n",
       "</table>\n",
       "</div>"
      ],
      "text/plain": [
       "       plan_list_price  actual_amount_paid\n",
       "count         318261.0            318261.0\n",
       "mean             131.8               136.2\n",
       "std               74.0                70.8\n",
       "min                0.0                 0.0\n",
       "25%               99.0                99.0\n",
       "50%              149.0               149.0\n",
       "75%              149.0               149.0\n",
       "max             2000.0              2000.0"
      ]
     },
     "execution_count": 22,
     "metadata": {},
     "output_type": "execute_result"
    }
   ],
   "source": [
    "trans_detail[['plan_list_price','actual_amount_paid']].describe().round(1)"
   ]
  },
  {
   "cell_type": "markdown",
   "metadata": {},
   "source": [
    "The transaction dates fall in the expected range (1/1/2015 - 2/28/2017). Our new expiration dates also start on 1/1/15, but they extend past the end of the transaction period because some users have long payment plan periods."
   ]
  },
  {
   "cell_type": "code",
   "execution_count": 23,
   "metadata": {},
   "outputs": [
    {
     "data": {
      "text/html": [
       "<div>\n",
       "<style>\n",
       "    .dataframe thead tr:only-child th {\n",
       "        text-align: right;\n",
       "    }\n",
       "\n",
       "    .dataframe thead th {\n",
       "        text-align: left;\n",
       "    }\n",
       "\n",
       "    .dataframe tbody tr th {\n",
       "        vertical-align: top;\n",
       "    }\n",
       "</style>\n",
       "<table border=\"1\" class=\"dataframe\">\n",
       "  <thead>\n",
       "    <tr style=\"text-align: right;\">\n",
       "      <th></th>\n",
       "      <th>transaction_date</th>\n",
       "      <th>new_expire_date</th>\n",
       "    </tr>\n",
       "  </thead>\n",
       "  <tbody>\n",
       "    <tr>\n",
       "      <th>count</th>\n",
       "      <td>318261</td>\n",
       "      <td>318261</td>\n",
       "    </tr>\n",
       "    <tr>\n",
       "      <th>unique</th>\n",
       "      <td>790</td>\n",
       "      <td>851</td>\n",
       "    </tr>\n",
       "    <tr>\n",
       "      <th>top</th>\n",
       "      <td>2017-01-31 00:00:00</td>\n",
       "      <td>2017-02-28 00:00:00</td>\n",
       "    </tr>\n",
       "    <tr>\n",
       "      <th>freq</th>\n",
       "      <td>3703</td>\n",
       "      <td>2566</td>\n",
       "    </tr>\n",
       "    <tr>\n",
       "      <th>first</th>\n",
       "      <td>2015-01-01 00:00:00</td>\n",
       "      <td>2015-01-01 00:00:00</td>\n",
       "    </tr>\n",
       "    <tr>\n",
       "      <th>last</th>\n",
       "      <td>2017-02-28 00:00:00</td>\n",
       "      <td>2017-10-23 00:00:00</td>\n",
       "    </tr>\n",
       "  </tbody>\n",
       "</table>\n",
       "</div>"
      ],
      "text/plain": [
       "           transaction_date      new_expire_date\n",
       "count                318261               318261\n",
       "unique                  790                  851\n",
       "top     2017-01-31 00:00:00  2017-02-28 00:00:00\n",
       "freq                   3703                 2566\n",
       "first   2015-01-01 00:00:00  2015-01-01 00:00:00\n",
       "last    2017-02-28 00:00:00  2017-10-23 00:00:00"
      ]
     },
     "execution_count": 23,
     "metadata": {},
     "output_type": "execute_result"
    }
   ],
   "source": [
    "pd.concat([pd.to_datetime(trans_detail.transaction_date, format='%Y%m%d'),\n",
    "           pd.to_datetime(trans_detail.new_expire_date, format='%Y%m%d')], axis=1).describe()"
   ]
  },
  {
   "cell_type": "markdown",
   "metadata": {},
   "source": [
    "+ The overwhelming majority of transactions are set to auto-renew.\n",
    "+ A very small number of transactions are cancellation transactions, which can happen for one of two reasons:\n",
    "    1. The user is cancelling their membership.\n",
    "    2. The user is changing some aspect of their membership. (We will calculate later whether a cancellation transaction falls into this category.)\n",
    "+ Approximately one in five transactions meet our definition of a late payment."
   ]
  },
  {
   "cell_type": "code",
   "execution_count": 24,
   "metadata": {},
   "outputs": [
    {
     "name": "stdout",
     "output_type": "stream",
     "text": [
      "1    0.9251\n",
      "0    0.0749\n",
      "Name: is_auto_renew, dtype: float64\n",
      "\n",
      "0    0.9824\n",
      "1    0.0176\n",
      "Name: is_cancel, dtype: float64\n",
      "\n",
      "False    0.8196\n",
      "True     0.1804\n",
      "Name: is_late, dtype: float64\n"
     ]
    }
   ],
   "source": [
    "print('''{}\n",
    "\n",
    "{}\n",
    "\n",
    "{}'''.format(trans_detail.is_auto_renew.value_counts(normalize=True, dropna=False).round(4),\n",
    "             trans_detail.is_cancel.value_counts(normalize=True, dropna=False).round(4),\n",
    "             trans_detail.is_late.value_counts(normalize=True).round(4)))"
   ]
  },
  {
   "cell_type": "markdown",
   "metadata": {},
   "source": [
    "**Aggregate transactions into one record per member.**"
   ]
  },
  {
   "cell_type": "markdown",
   "metadata": {},
   "source": [
    "We aggregate the transaction variables in several ways so we can get 1 row per user, which can be merged with the member dataset. We get the following:\n",
    "+ The last transaction for each member, which tells us:\n",
    "    + Last transaction date and last expiration date\n",
    "    + Whether the last transaction was on auto-renew\n",
    "    + Whether the last transaction was cancelled\n",
    "+ For each member, counts of:\n",
    "    + Non-cancelled transactions\n",
    "    + Cancelled transactions\n",
    "    + Transactions with payment > 0\n",
    "+ For each member, percent of transactions that are:\n",
    "    + In each payment method ID category\n",
    "    + In each payment plan days category\n",
    "    + Set to auto-renew\n",
    "    + Late payments\n",
    "+ The sum of plan days, list prices, and actual payments for each member, which are used in a later calculation\n",
    "+ The date of each member's *first* cancelled transaction (if applicable), which is used in a later calculation"
   ]
  },
  {
   "cell_type": "code",
   "execution_count": 25,
   "metadata": {
    "collapsed": true
   },
   "outputs": [],
   "source": [
    "# Information about last transaction\n",
    "def get_latest_trans(df):\n",
    "    subset = df[['msno','transaction_date','new_expire_date','registration_init_time',\n",
    "                 'payment_plan_days','is_auto_renew','is_cancel']]\n",
    "    latest_trans = subset.sort_values(by=['msno','transaction_date','new_expire_date']).groupby(['msno'], as_index=False).last()\n",
    "    latest_trans.columns = latest_trans.rename(columns={'transaction_date': 'last_transaction',\n",
    "                                                        'new_expire_date': 'last_expiration',\n",
    "                                                        'registration_init_time': 'registration_date',\n",
    "                                                        'payment_plan_days': 'last_plan_days',\n",
    "                                                        'is_auto_renew': 'latest_trans_auto_renew',\n",
    "                                                        'is_cancel': 'latest_trans_cancel'\n",
    "                                                       }).columns\n",
    "    del subset\n",
    "    return latest_trans\n",
    "\n",
    "# Split some variables into dummies and then take the mean of each to get % transactions in each category\n",
    "def get_dummies(df):\n",
    "    dummies = pd.concat([df.msno,\n",
    "                         pd.get_dummies(df.payment_plan_days, prefix='pct_plan_days'),\n",
    "                         pd.get_dummies(df.payment_method_id, prefix='pct_pmt_method')\n",
    "                        ], axis=1).groupby(['msno'], as_index=False).mean()\n",
    "    return dummies\n",
    "\n",
    "# Aggregate on all transactions\n",
    "def agg_all_trans(df):\n",
    "    aggs = df.groupby(['msno'], as_index=False).agg({\n",
    "        'is_auto_renew': 'mean',\n",
    "        'is_cancel': sum\n",
    "    })\n",
    "    aggs.columns = aggs.rename(columns={'is_auto_renew': 'pct_auto_renew',\n",
    "                                        'is_cancel': 'count_cancel_trans'\n",
    "                                       }).columns\n",
    "    return aggs\n",
    "\n",
    "# Aggregate on cancelled transactions\n",
    "def agg_cancelled_trans(df):\n",
    "    aggs_cancelled = df[df.is_cancel == 1].groupby(['msno'], as_index=False).agg({\n",
    "        'new_expire_date': min\n",
    "    })\n",
    "    aggs_cancelled.columns = aggs_cancelled.rename(columns={'new_expire_date': 'expire_on_first_cancel'\n",
    "                                                           }).columns\n",
    "    return aggs_cancelled\n",
    "\n",
    "# Aggregate on non-cancelled transactions\n",
    "def agg_non_cancel_trans(df):\n",
    "    aggs_no_cancel = df[df.is_cancel == 0].groupby(['msno'], as_index=False).agg({\n",
    "        'actual_amount_paid': sum,\n",
    "        'is_late': 'mean',\n",
    "        'payment_plan_days': sum,\n",
    "        'plan_list_price': sum,\n",
    "        'transaction_date': 'count'\n",
    "    })\n",
    "    aggs_no_cancel.columns = aggs_no_cancel.rename(columns={'actual_amount_paid': 'sum_amt_paid',\n",
    "                                                            'is_late': 'pct_late_pmt',\n",
    "                                                            'payment_plan_days': 'sum_plan_days',\n",
    "                                                            'plan_list_price': 'sum_list_price',\n",
    "                                                            'transaction_date': 'count_non_cancel_trans'\n",
    "                                                           }).columns\n",
    "    return aggs_no_cancel\n",
    "\n",
    "# Aggregate on transactions with a payment > 0\n",
    "def agg_trans_with_pmt(df):\n",
    "    aggs_w_pmt = df[df.actual_amount_paid > 0].groupby(['msno'], as_index=False).agg({\n",
    "        'actual_amount_paid': 'count'\n",
    "    })\n",
    "    aggs_w_pmt.columns = aggs_w_pmt.rename(columns={'actual_amount_paid': 'count_trans_w_payment'\n",
    "                                                   }).columns\n",
    "    return aggs_w_pmt\n",
    "\n",
    "def merge_transaction_aggregations(df):\n",
    "    # Get pieces to aggregate\n",
    "    aggs = agg_all_trans(df)\n",
    "    aggs_cancelled = agg_cancelled_trans(df)\n",
    "    aggs_no_cancel = agg_non_cancel_trans(df)\n",
    "    aggs_w_pmt = agg_trans_with_pmt(df)\n",
    "    latest_trans = get_latest_trans(df)\n",
    "    dummies = get_dummies(df)\n",
    "\n",
    "    # Merge\n",
    "    trans_one_line = pd.merge(aggs, aggs_cancelled, on='msno', how='left')\n",
    "    trans_one_line = pd.merge(trans_one_line, aggs_no_cancel, on='msno', how='left')\n",
    "    trans_one_line = pd.merge(trans_one_line, aggs_w_pmt, on='msno', how='left')\n",
    "    trans_one_line = pd.merge(trans_one_line, latest_trans, on='msno', how='left')\n",
    "    trans_one_line = pd.merge(trans_one_line, dummies, on='msno', how='left')\n",
    "    \n",
    "    return trans_one_line\n",
    "\n",
    "trans_aggregated = merge_transaction_aggregations(trans_detail)"
   ]
  },
  {
   "cell_type": "markdown",
   "metadata": {},
   "source": [
    "Now we add some additional variables:\n",
    "+ Customer lifetime: latest expiration date - registration date\n",
    "+ Days since last transaction: 2/28/2017 - latest transaction date\n",
    "+ Average daily list price: SUM(list price) / SUM(plan days)\n",
    "+ Average daily discount: SUM(amount paid - list price) / SUM(plan days)\n",
    "+ Switched membership: indicator if the member has *ever* changed their membership; occurs when the expiration date on the user's first cancelled transaction is *earlier than* their latest expiration date\n",
    "\n",
    "Then we clean up the file by dropping some variables that are no longer needed after making the above calculations:\n",
    "+ The sums of list price, plan days, and amount paid\n",
    "+ Expiration date on first cancelled transaction\n",
    "+ Registration date and last expiration date\n",
    "+ Last transaction date"
   ]
  },
  {
   "cell_type": "code",
   "execution_count": 26,
   "metadata": {
    "collapsed": true
   },
   "outputs": [],
   "source": [
    "# Clean up aggregated transaction files\n",
    "\n",
    "def clean_trans_summary(df, period_end):\n",
    "    # Replace NaN with 0 in some columns\n",
    "    df['count_non_cancel_trans'] = df['count_non_cancel_trans'].apply(lambda x: int(x) if x > 0 else 0)\n",
    "    df['count_trans_w_payment'] = df['count_trans_w_payment'].apply(lambda x: int(x) if x > 0 else 0)\n",
    "\n",
    "    # Add some variables\n",
    "    df['customer_lifetime'] = pd.to_datetime(df['last_expiration'], format='%Y%m%d').sub(pd.to_datetime(df['registration_date'], format='%Y%m%d')).dt.days\n",
    "    df['days_since_last_trans'] = df['last_transaction'].apply(lambda x: (pd.to_datetime(period_end, format='%Y%m%d') - pd.to_datetime(x, format='%Y%m%d')).days)\n",
    "    df['avg_daily_list_price'] = df['sum_list_price'] / df['sum_plan_days']\n",
    "    df['avg_daily_discount'] = (df['sum_amt_paid'] / df['sum_plan_days']) - df['avg_daily_list_price']\n",
    "    df['switched_membership'] = (df['last_expiration'] > df['expire_on_first_cancel']).apply(lambda x: 1 if x is True else 0)\n",
    "    \n",
    "\n",
    "    # Drop unneeded variables\n",
    "    df = df.drop(['sum_list_price','sum_amt_paid','sum_plan_days','expire_on_first_cancel',\n",
    "                  'registration_date','last_transaction','last_expiration'], axis=1)\n",
    "    \n",
    "    return df\n",
    "\n",
    "trans_aggregated = clean_trans_summary(trans_aggregated, 20170228)"
   ]
  },
  {
   "cell_type": "markdown",
   "metadata": {},
   "source": [
    "Now our aggregated data has 20,000 rows -- one for each user -- and a number of features describing the transaction history of that user."
   ]
  },
  {
   "cell_type": "code",
   "execution_count": 27,
   "metadata": {},
   "outputs": [
    {
     "name": "stdout",
     "output_type": "stream",
     "text": [
      "(20000, 78)\n"
     ]
    },
    {
     "data": {
      "text/html": [
       "<div>\n",
       "<style>\n",
       "    .dataframe thead tr:only-child th {\n",
       "        text-align: right;\n",
       "    }\n",
       "\n",
       "    .dataframe thead th {\n",
       "        text-align: left;\n",
       "    }\n",
       "\n",
       "    .dataframe tbody tr th {\n",
       "        vertical-align: top;\n",
       "    }\n",
       "</style>\n",
       "<table border=\"1\" class=\"dataframe\">\n",
       "  <thead>\n",
       "    <tr style=\"text-align: right;\">\n",
       "      <th></th>\n",
       "      <th>msno</th>\n",
       "      <th>pct_auto_renew</th>\n",
       "      <th>count_cancel_trans</th>\n",
       "      <th>count_non_cancel_trans</th>\n",
       "      <th>pct_late_pmt</th>\n",
       "      <th>count_trans_w_payment</th>\n",
       "      <th>last_plan_days</th>\n",
       "      <th>latest_trans_auto_renew</th>\n",
       "      <th>latest_trans_cancel</th>\n",
       "      <th>pct_plan_days_0</th>\n",
       "      <th>...</th>\n",
       "      <th>pct_pmt_method_37</th>\n",
       "      <th>pct_pmt_method_38</th>\n",
       "      <th>pct_pmt_method_39</th>\n",
       "      <th>pct_pmt_method_40</th>\n",
       "      <th>pct_pmt_method_41</th>\n",
       "      <th>customer_lifetime</th>\n",
       "      <th>days_since_last_trans</th>\n",
       "      <th>avg_daily_list_price</th>\n",
       "      <th>avg_daily_discount</th>\n",
       "      <th>switched_membership</th>\n",
       "    </tr>\n",
       "  </thead>\n",
       "  <tbody>\n",
       "    <tr>\n",
       "      <th>0</th>\n",
       "      <td>++5BmBHS2ebe4Whfg/7KhGkj/sQ6rtNHsktLxsI01KE=</td>\n",
       "      <td>1.0</td>\n",
       "      <td>0</td>\n",
       "      <td>15</td>\n",
       "      <td>0.266667</td>\n",
       "      <td>15</td>\n",
       "      <td>30</td>\n",
       "      <td>1</td>\n",
       "      <td>0</td>\n",
       "      <td>0.0</td>\n",
       "      <td>...</td>\n",
       "      <td>0.0</td>\n",
       "      <td>0.0</td>\n",
       "      <td>1.0</td>\n",
       "      <td>0.0</td>\n",
       "      <td>0.0</td>\n",
       "      <td>1457.0</td>\n",
       "      <td>28</td>\n",
       "      <td>4.966667</td>\n",
       "      <td>0.0</td>\n",
       "      <td>0</td>\n",
       "    </tr>\n",
       "    <tr>\n",
       "      <th>1</th>\n",
       "      <td>++aFrWPzVzGo/Q0I1nze64DYFOAD8kneadlQKmmYTjA=</td>\n",
       "      <td>1.0</td>\n",
       "      <td>0</td>\n",
       "      <td>9</td>\n",
       "      <td>0.111111</td>\n",
       "      <td>9</td>\n",
       "      <td>30</td>\n",
       "      <td>1</td>\n",
       "      <td>0</td>\n",
       "      <td>0.0</td>\n",
       "      <td>...</td>\n",
       "      <td>0.0</td>\n",
       "      <td>0.0</td>\n",
       "      <td>0.0</td>\n",
       "      <td>0.0</td>\n",
       "      <td>1.0</td>\n",
       "      <td>NaN</td>\n",
       "      <td>0</td>\n",
       "      <td>3.300000</td>\n",
       "      <td>0.0</td>\n",
       "      <td>0</td>\n",
       "    </tr>\n",
       "    <tr>\n",
       "      <th>2</th>\n",
       "      <td>+/1EDtwrn7StJp1C1SZWgbawUVFH2sWreBSTaFsv3lo=</td>\n",
       "      <td>1.0</td>\n",
       "      <td>0</td>\n",
       "      <td>3</td>\n",
       "      <td>0.666667</td>\n",
       "      <td>3</td>\n",
       "      <td>30</td>\n",
       "      <td>1</td>\n",
       "      <td>0</td>\n",
       "      <td>0.0</td>\n",
       "      <td>...</td>\n",
       "      <td>0.0</td>\n",
       "      <td>0.0</td>\n",
       "      <td>0.0</td>\n",
       "      <td>0.0</td>\n",
       "      <td>0.0</td>\n",
       "      <td>NaN</td>\n",
       "      <td>22</td>\n",
       "      <td>4.300000</td>\n",
       "      <td>0.0</td>\n",
       "      <td>0</td>\n",
       "    </tr>\n",
       "    <tr>\n",
       "      <th>3</th>\n",
       "      <td>+/fLVvbupWg/9UysOyhPUQfGDQYKuWxSyuTEUk/n3iw=</td>\n",
       "      <td>1.0</td>\n",
       "      <td>1</td>\n",
       "      <td>27</td>\n",
       "      <td>0.037037</td>\n",
       "      <td>28</td>\n",
       "      <td>30</td>\n",
       "      <td>1</td>\n",
       "      <td>0</td>\n",
       "      <td>0.0</td>\n",
       "      <td>...</td>\n",
       "      <td>0.0</td>\n",
       "      <td>0.0</td>\n",
       "      <td>0.0</td>\n",
       "      <td>0.0</td>\n",
       "      <td>1.0</td>\n",
       "      <td>789.0</td>\n",
       "      <td>11</td>\n",
       "      <td>4.670370</td>\n",
       "      <td>0.0</td>\n",
       "      <td>1</td>\n",
       "    </tr>\n",
       "    <tr>\n",
       "      <th>4</th>\n",
       "      <td>+/jSNRMnEqElT4tO+UpL6aXwHLCXMLOy5nCa4Kic6rI=</td>\n",
       "      <td>1.0</td>\n",
       "      <td>0</td>\n",
       "      <td>5</td>\n",
       "      <td>0.000000</td>\n",
       "      <td>5</td>\n",
       "      <td>30</td>\n",
       "      <td>1</td>\n",
       "      <td>0</td>\n",
       "      <td>0.0</td>\n",
       "      <td>...</td>\n",
       "      <td>0.0</td>\n",
       "      <td>0.0</td>\n",
       "      <td>0.0</td>\n",
       "      <td>0.0</td>\n",
       "      <td>1.0</td>\n",
       "      <td>150.0</td>\n",
       "      <td>1</td>\n",
       "      <td>3.300000</td>\n",
       "      <td>0.0</td>\n",
       "      <td>0</td>\n",
       "    </tr>\n",
       "  </tbody>\n",
       "</table>\n",
       "<p>5 rows × 78 columns</p>\n",
       "</div>"
      ],
      "text/plain": [
       "                                           msno  pct_auto_renew  \\\n",
       "0  ++5BmBHS2ebe4Whfg/7KhGkj/sQ6rtNHsktLxsI01KE=             1.0   \n",
       "1  ++aFrWPzVzGo/Q0I1nze64DYFOAD8kneadlQKmmYTjA=             1.0   \n",
       "2  +/1EDtwrn7StJp1C1SZWgbawUVFH2sWreBSTaFsv3lo=             1.0   \n",
       "3  +/fLVvbupWg/9UysOyhPUQfGDQYKuWxSyuTEUk/n3iw=             1.0   \n",
       "4  +/jSNRMnEqElT4tO+UpL6aXwHLCXMLOy5nCa4Kic6rI=             1.0   \n",
       "\n",
       "   count_cancel_trans  count_non_cancel_trans  pct_late_pmt  \\\n",
       "0                   0                      15      0.266667   \n",
       "1                   0                       9      0.111111   \n",
       "2                   0                       3      0.666667   \n",
       "3                   1                      27      0.037037   \n",
       "4                   0                       5      0.000000   \n",
       "\n",
       "   count_trans_w_payment  last_plan_days  latest_trans_auto_renew  \\\n",
       "0                     15              30                        1   \n",
       "1                      9              30                        1   \n",
       "2                      3              30                        1   \n",
       "3                     28              30                        1   \n",
       "4                      5              30                        1   \n",
       "\n",
       "   latest_trans_cancel  pct_plan_days_0         ...           \\\n",
       "0                    0              0.0         ...            \n",
       "1                    0              0.0         ...            \n",
       "2                    0              0.0         ...            \n",
       "3                    0              0.0         ...            \n",
       "4                    0              0.0         ...            \n",
       "\n",
       "   pct_pmt_method_37  pct_pmt_method_38  pct_pmt_method_39  pct_pmt_method_40  \\\n",
       "0                0.0                0.0                1.0                0.0   \n",
       "1                0.0                0.0                0.0                0.0   \n",
       "2                0.0                0.0                0.0                0.0   \n",
       "3                0.0                0.0                0.0                0.0   \n",
       "4                0.0                0.0                0.0                0.0   \n",
       "\n",
       "   pct_pmt_method_41  customer_lifetime  days_since_last_trans  \\\n",
       "0                0.0             1457.0                     28   \n",
       "1                1.0                NaN                      0   \n",
       "2                0.0                NaN                     22   \n",
       "3                1.0              789.0                     11   \n",
       "4                1.0              150.0                      1   \n",
       "\n",
       "   avg_daily_list_price  avg_daily_discount  switched_membership  \n",
       "0              4.966667                 0.0                    0  \n",
       "1              3.300000                 0.0                    0  \n",
       "2              4.300000                 0.0                    0  \n",
       "3              4.670370                 0.0                    1  \n",
       "4              3.300000                 0.0                    0  \n",
       "\n",
       "[5 rows x 78 columns]"
      ]
     },
     "execution_count": 27,
     "metadata": {},
     "output_type": "execute_result"
    }
   ],
   "source": [
    "print (trans_aggregated.shape)\n",
    "trans_aggregated.head()"
   ]
  },
  {
   "cell_type": "markdown",
   "metadata": {},
   "source": [
    "### User Logs\n",
    "Finally we review the filtered user logs file. Each record of the log file gives us information about how many songs were listened to, and for how long, on a day that the user logged in (i.e. there are no records for days where the user did not log in). A small number of users don't have any user log information (meaning they paid for the service but never used it), but the majority do, and many users actually have hundreds of user logs during the time period we are reviewing. Just as in the case of members, we account for missing data with an additional binary feature for user log data missing."
   ]
  },
  {
   "cell_type": "code",
   "execution_count": 28,
   "metadata": {
    "scrolled": true
   },
   "outputs": [
    {
     "name": "stdout",
     "output_type": "stream",
     "text": [
      "Unique Number of Members in User Logs File: 17,536\n",
      "Average User Logs per Member: 280.7\n"
     ]
    },
    {
     "data": {
      "text/html": [
       "<div>\n",
       "<style>\n",
       "    .dataframe thead tr:only-child th {\n",
       "        text-align: right;\n",
       "    }\n",
       "\n",
       "    .dataframe thead th {\n",
       "        text-align: left;\n",
       "    }\n",
       "\n",
       "    .dataframe tbody tr th {\n",
       "        vertical-align: top;\n",
       "    }\n",
       "</style>\n",
       "<table border=\"1\" class=\"dataframe\">\n",
       "  <thead>\n",
       "    <tr style=\"text-align: right;\">\n",
       "      <th></th>\n",
       "      <th>msno</th>\n",
       "      <th>date</th>\n",
       "      <th>num_25</th>\n",
       "      <th>num_50</th>\n",
       "      <th>num_75</th>\n",
       "      <th>num_985</th>\n",
       "      <th>num_100</th>\n",
       "      <th>num_unq</th>\n",
       "      <th>total_secs</th>\n",
       "    </tr>\n",
       "  </thead>\n",
       "  <tbody>\n",
       "    <tr>\n",
       "      <th>0</th>\n",
       "      <td>OcZ3fKQzHrL1BuzuFRzUiwPr8l9P8JKCFpafdYf5sCY=</td>\n",
       "      <td>20150220</td>\n",
       "      <td>0</td>\n",
       "      <td>0</td>\n",
       "      <td>0</td>\n",
       "      <td>1</td>\n",
       "      <td>6</td>\n",
       "      <td>7</td>\n",
       "      <td>1597.062</td>\n",
       "    </tr>\n",
       "    <tr>\n",
       "      <th>1</th>\n",
       "      <td>OcZ3fKQzHrL1BuzuFRzUiwPr8l9P8JKCFpafdYf5sCY=</td>\n",
       "      <td>20150419</td>\n",
       "      <td>0</td>\n",
       "      <td>0</td>\n",
       "      <td>0</td>\n",
       "      <td>1</td>\n",
       "      <td>7</td>\n",
       "      <td>5</td>\n",
       "      <td>2106.230</td>\n",
       "    </tr>\n",
       "    <tr>\n",
       "      <th>2</th>\n",
       "      <td>OcZ3fKQzHrL1BuzuFRzUiwPr8l9P8JKCFpafdYf5sCY=</td>\n",
       "      <td>20150614</td>\n",
       "      <td>1</td>\n",
       "      <td>1</td>\n",
       "      <td>0</td>\n",
       "      <td>0</td>\n",
       "      <td>6</td>\n",
       "      <td>3</td>\n",
       "      <td>1592.724</td>\n",
       "    </tr>\n",
       "    <tr>\n",
       "      <th>3</th>\n",
       "      <td>OcZ3fKQzHrL1BuzuFRzUiwPr8l9P8JKCFpafdYf5sCY=</td>\n",
       "      <td>20150806</td>\n",
       "      <td>1</td>\n",
       "      <td>2</td>\n",
       "      <td>2</td>\n",
       "      <td>1</td>\n",
       "      <td>37</td>\n",
       "      <td>43</td>\n",
       "      <td>10355.986</td>\n",
       "    </tr>\n",
       "    <tr>\n",
       "      <th>4</th>\n",
       "      <td>OcZ3fKQzHrL1BuzuFRzUiwPr8l9P8JKCFpafdYf5sCY=</td>\n",
       "      <td>20151005</td>\n",
       "      <td>6</td>\n",
       "      <td>1</td>\n",
       "      <td>0</td>\n",
       "      <td>0</td>\n",
       "      <td>24</td>\n",
       "      <td>16</td>\n",
       "      <td>5923.856</td>\n",
       "    </tr>\n",
       "  </tbody>\n",
       "</table>\n",
       "</div>"
      ],
      "text/plain": [
       "                                           msno      date  num_25  num_50  \\\n",
       "0  OcZ3fKQzHrL1BuzuFRzUiwPr8l9P8JKCFpafdYf5sCY=  20150220       0       0   \n",
       "1  OcZ3fKQzHrL1BuzuFRzUiwPr8l9P8JKCFpafdYf5sCY=  20150419       0       0   \n",
       "2  OcZ3fKQzHrL1BuzuFRzUiwPr8l9P8JKCFpafdYf5sCY=  20150614       1       1   \n",
       "3  OcZ3fKQzHrL1BuzuFRzUiwPr8l9P8JKCFpafdYf5sCY=  20150806       1       2   \n",
       "4  OcZ3fKQzHrL1BuzuFRzUiwPr8l9P8JKCFpafdYf5sCY=  20151005       6       1   \n",
       "\n",
       "   num_75  num_985  num_100  num_unq  total_secs  \n",
       "0       0        1        6        7    1597.062  \n",
       "1       0        1        7        5    2106.230  \n",
       "2       0        0        6        3    1592.724  \n",
       "3       2        1       37       43   10355.986  \n",
       "4       0        0       24       16    5923.856  "
      ]
     },
     "execution_count": 28,
     "metadata": {},
     "output_type": "execute_result"
    }
   ],
   "source": [
    "unq_msno = logs_detail.msno.nunique()\n",
    "print ('''Unique Number of Members in User Logs File: {:,}'''.format(unq_msno))\n",
    "print ('''Average User Logs per Member: {:.1f}'''.format(len(logs_detail) / unq_msno))\n",
    "logs_detail.head()"
   ]
  },
  {
   "cell_type": "markdown",
   "metadata": {},
   "source": [
    "We add a `YearMonth` variable to the user log data, which we will use for aggregating by month."
   ]
  },
  {
   "cell_type": "code",
   "execution_count": 29,
   "metadata": {},
   "outputs": [
    {
     "data": {
      "text/html": [
       "<div>\n",
       "<style>\n",
       "    .dataframe thead tr:only-child th {\n",
       "        text-align: right;\n",
       "    }\n",
       "\n",
       "    .dataframe thead th {\n",
       "        text-align: left;\n",
       "    }\n",
       "\n",
       "    .dataframe tbody tr th {\n",
       "        vertical-align: top;\n",
       "    }\n",
       "</style>\n",
       "<table border=\"1\" class=\"dataframe\">\n",
       "  <thead>\n",
       "    <tr style=\"text-align: right;\">\n",
       "      <th></th>\n",
       "      <th>msno</th>\n",
       "      <th>date</th>\n",
       "      <th>num_25</th>\n",
       "      <th>num_50</th>\n",
       "      <th>num_75</th>\n",
       "      <th>num_985</th>\n",
       "      <th>num_100</th>\n",
       "      <th>num_unq</th>\n",
       "      <th>total_secs</th>\n",
       "      <th>YearMonth</th>\n",
       "    </tr>\n",
       "  </thead>\n",
       "  <tbody>\n",
       "    <tr>\n",
       "      <th>0</th>\n",
       "      <td>OcZ3fKQzHrL1BuzuFRzUiwPr8l9P8JKCFpafdYf5sCY=</td>\n",
       "      <td>2015-02-20</td>\n",
       "      <td>0</td>\n",
       "      <td>0</td>\n",
       "      <td>0</td>\n",
       "      <td>1</td>\n",
       "      <td>6</td>\n",
       "      <td>7</td>\n",
       "      <td>1597.062</td>\n",
       "      <td>201502</td>\n",
       "    </tr>\n",
       "    <tr>\n",
       "      <th>1</th>\n",
       "      <td>OcZ3fKQzHrL1BuzuFRzUiwPr8l9P8JKCFpafdYf5sCY=</td>\n",
       "      <td>2015-04-19</td>\n",
       "      <td>0</td>\n",
       "      <td>0</td>\n",
       "      <td>0</td>\n",
       "      <td>1</td>\n",
       "      <td>7</td>\n",
       "      <td>5</td>\n",
       "      <td>2106.230</td>\n",
       "      <td>201504</td>\n",
       "    </tr>\n",
       "    <tr>\n",
       "      <th>2</th>\n",
       "      <td>OcZ3fKQzHrL1BuzuFRzUiwPr8l9P8JKCFpafdYf5sCY=</td>\n",
       "      <td>2015-06-14</td>\n",
       "      <td>1</td>\n",
       "      <td>1</td>\n",
       "      <td>0</td>\n",
       "      <td>0</td>\n",
       "      <td>6</td>\n",
       "      <td>3</td>\n",
       "      <td>1592.724</td>\n",
       "      <td>201506</td>\n",
       "    </tr>\n",
       "    <tr>\n",
       "      <th>3</th>\n",
       "      <td>OcZ3fKQzHrL1BuzuFRzUiwPr8l9P8JKCFpafdYf5sCY=</td>\n",
       "      <td>2015-08-06</td>\n",
       "      <td>1</td>\n",
       "      <td>2</td>\n",
       "      <td>2</td>\n",
       "      <td>1</td>\n",
       "      <td>37</td>\n",
       "      <td>43</td>\n",
       "      <td>10355.986</td>\n",
       "      <td>201508</td>\n",
       "    </tr>\n",
       "    <tr>\n",
       "      <th>4</th>\n",
       "      <td>OcZ3fKQzHrL1BuzuFRzUiwPr8l9P8JKCFpafdYf5sCY=</td>\n",
       "      <td>2015-10-05</td>\n",
       "      <td>6</td>\n",
       "      <td>1</td>\n",
       "      <td>0</td>\n",
       "      <td>0</td>\n",
       "      <td>24</td>\n",
       "      <td>16</td>\n",
       "      <td>5923.856</td>\n",
       "      <td>201510</td>\n",
       "    </tr>\n",
       "  </tbody>\n",
       "</table>\n",
       "</div>"
      ],
      "text/plain": [
       "                                           msno       date  num_25  num_50  \\\n",
       "0  OcZ3fKQzHrL1BuzuFRzUiwPr8l9P8JKCFpafdYf5sCY= 2015-02-20       0       0   \n",
       "1  OcZ3fKQzHrL1BuzuFRzUiwPr8l9P8JKCFpafdYf5sCY= 2015-04-19       0       0   \n",
       "2  OcZ3fKQzHrL1BuzuFRzUiwPr8l9P8JKCFpafdYf5sCY= 2015-06-14       1       1   \n",
       "3  OcZ3fKQzHrL1BuzuFRzUiwPr8l9P8JKCFpafdYf5sCY= 2015-08-06       1       2   \n",
       "4  OcZ3fKQzHrL1BuzuFRzUiwPr8l9P8JKCFpafdYf5sCY= 2015-10-05       6       1   \n",
       "\n",
       "   num_75  num_985  num_100  num_unq  total_secs  YearMonth  \n",
       "0       0        1        6        7    1597.062     201502  \n",
       "1       0        1        7        5    2106.230     201504  \n",
       "2       0        0        6        3    1592.724     201506  \n",
       "3       2        1       37       43   10355.986     201508  \n",
       "4       0        0       24       16    5923.856     201510  "
      ]
     },
     "execution_count": 29,
     "metadata": {},
     "output_type": "execute_result"
    }
   ],
   "source": [
    "# Transformations to user log data\n",
    "logs_detail['date'] = pd.to_datetime(logs_detail['date'], format='%Y%m%d')\n",
    "logs_detail['YearMonth'] = logs_detail['date'].map(lambda x: 100*x.year + x.month)\n",
    "\n",
    "# See user logs detail\n",
    "logs_detail.head()"
   ]
  },
  {
   "cell_type": "markdown",
   "metadata": {},
   "source": [
    "All the user logs fall within the expected dates of 1/1/2015 to 2/28/2017."
   ]
  },
  {
   "cell_type": "code",
   "execution_count": 30,
   "metadata": {},
   "outputs": [
    {
     "data": {
      "text/plain": [
       "count                 4922563\n",
       "unique                    790\n",
       "top       2017-01-26 00:00:00\n",
       "freq                     9386\n",
       "first     2015-01-01 00:00:00\n",
       "last      2017-02-28 00:00:00\n",
       "Name: date, dtype: object"
      ]
     },
     "execution_count": 30,
     "metadata": {},
     "output_type": "execute_result"
    }
   ],
   "source": [
    "logs_detail.date.describe()"
   ]
  },
  {
   "cell_type": "markdown",
   "metadata": {},
   "source": [
    "The `num_XX` variables describe how many songs the user listened to that day, where the number in the variable name corresponds to the percentage of the song listened to (i.e. `num_25` is the number of songs listened to 0-25% of the way through). `num_unq` is the number of unique songs listened to. On the median login, the user listens to 4,644 seconds of music (1 hour and 17 minutes), and 19 unique songs."
   ]
  },
  {
   "cell_type": "code",
   "execution_count": 31,
   "metadata": {},
   "outputs": [
    {
     "data": {
      "text/html": [
       "<div>\n",
       "<style>\n",
       "    .dataframe thead tr:only-child th {\n",
       "        text-align: right;\n",
       "    }\n",
       "\n",
       "    .dataframe thead th {\n",
       "        text-align: left;\n",
       "    }\n",
       "\n",
       "    .dataframe tbody tr th {\n",
       "        vertical-align: top;\n",
       "    }\n",
       "</style>\n",
       "<table border=\"1\" class=\"dataframe\">\n",
       "  <thead>\n",
       "    <tr style=\"text-align: right;\">\n",
       "      <th></th>\n",
       "      <th>num_25</th>\n",
       "      <th>num_50</th>\n",
       "      <th>num_75</th>\n",
       "      <th>num_985</th>\n",
       "      <th>num_100</th>\n",
       "      <th>num_unq</th>\n",
       "      <th>total_secs</th>\n",
       "      <th>YearMonth</th>\n",
       "    </tr>\n",
       "  </thead>\n",
       "  <tbody>\n",
       "    <tr>\n",
       "      <th>count</th>\n",
       "      <td>4922563.0</td>\n",
       "      <td>4922563.0</td>\n",
       "      <td>4922563.0</td>\n",
       "      <td>4922563.0</td>\n",
       "      <td>4922563.0</td>\n",
       "      <td>4922563.0</td>\n",
       "      <td>4922563.0</td>\n",
       "      <td>4922563.0</td>\n",
       "    </tr>\n",
       "    <tr>\n",
       "      <th>mean</th>\n",
       "      <td>6.4</td>\n",
       "      <td>1.6</td>\n",
       "      <td>1.0</td>\n",
       "      <td>1.1</td>\n",
       "      <td>30.8</td>\n",
       "      <td>30.1</td>\n",
       "      <td>8110.4</td>\n",
       "      <td>201581.3</td>\n",
       "    </tr>\n",
       "    <tr>\n",
       "      <th>std</th>\n",
       "      <td>13.4</td>\n",
       "      <td>4.1</td>\n",
       "      <td>2.1</td>\n",
       "      <td>2.5</td>\n",
       "      <td>40.1</td>\n",
       "      <td>33.3</td>\n",
       "      <td>9767.3</td>\n",
       "      <td>62.0</td>\n",
       "    </tr>\n",
       "    <tr>\n",
       "      <th>min</th>\n",
       "      <td>0.0</td>\n",
       "      <td>0.0</td>\n",
       "      <td>0.0</td>\n",
       "      <td>0.0</td>\n",
       "      <td>0.0</td>\n",
       "      <td>1.0</td>\n",
       "      <td>0.0</td>\n",
       "      <td>201501.0</td>\n",
       "    </tr>\n",
       "    <tr>\n",
       "      <th>25%</th>\n",
       "      <td>0.0</td>\n",
       "      <td>0.0</td>\n",
       "      <td>0.0</td>\n",
       "      <td>0.0</td>\n",
       "      <td>7.0</td>\n",
       "      <td>8.0</td>\n",
       "      <td>1948.4</td>\n",
       "      <td>201509.0</td>\n",
       "    </tr>\n",
       "    <tr>\n",
       "      <th>50%</th>\n",
       "      <td>2.0</td>\n",
       "      <td>1.0</td>\n",
       "      <td>0.0</td>\n",
       "      <td>0.0</td>\n",
       "      <td>17.0</td>\n",
       "      <td>19.0</td>\n",
       "      <td>4644.4</td>\n",
       "      <td>201604.0</td>\n",
       "    </tr>\n",
       "    <tr>\n",
       "      <th>75%</th>\n",
       "      <td>7.0</td>\n",
       "      <td>2.0</td>\n",
       "      <td>1.0</td>\n",
       "      <td>1.0</td>\n",
       "      <td>38.0</td>\n",
       "      <td>39.0</td>\n",
       "      <td>10171.1</td>\n",
       "      <td>201610.0</td>\n",
       "    </tr>\n",
       "    <tr>\n",
       "      <th>max</th>\n",
       "      <td>1862.0</td>\n",
       "      <td>491.0</td>\n",
       "      <td>269.0</td>\n",
       "      <td>532.0</td>\n",
       "      <td>2045.0</td>\n",
       "      <td>1150.0</td>\n",
       "      <td>86399.4</td>\n",
       "      <td>201702.0</td>\n",
       "    </tr>\n",
       "  </tbody>\n",
       "</table>\n",
       "</div>"
      ],
      "text/plain": [
       "          num_25     num_50     num_75    num_985    num_100    num_unq  \\\n",
       "count  4922563.0  4922563.0  4922563.0  4922563.0  4922563.0  4922563.0   \n",
       "mean         6.4        1.6        1.0        1.1       30.8       30.1   \n",
       "std         13.4        4.1        2.1        2.5       40.1       33.3   \n",
       "min          0.0        0.0        0.0        0.0        0.0        1.0   \n",
       "25%          0.0        0.0        0.0        0.0        7.0        8.0   \n",
       "50%          2.0        1.0        0.0        0.0       17.0       19.0   \n",
       "75%          7.0        2.0        1.0        1.0       38.0       39.0   \n",
       "max       1862.0      491.0      269.0      532.0     2045.0     1150.0   \n",
       "\n",
       "       total_secs  YearMonth  \n",
       "count   4922563.0  4922563.0  \n",
       "mean       8110.4   201581.3  \n",
       "std        9767.3       62.0  \n",
       "min           0.0   201501.0  \n",
       "25%        1948.4   201509.0  \n",
       "50%        4644.4   201604.0  \n",
       "75%       10171.1   201610.0  \n",
       "max       86399.4   201702.0  "
      ]
     },
     "execution_count": 31,
     "metadata": {},
     "output_type": "execute_result"
    }
   ],
   "source": [
    "# 'Maybe we dont need this, enough to do on aggregated logs_detail'\n",
    "\n",
    "#plt.figure(figsize=(15, 12))\n",
    "\n",
    "# Iterate over the features, creating a subplot with a histogram for each one.\n",
    "#for feature in range(2,logs_detail.shape[1]-1):\n",
    "#    plt.subplot(3,3, feature)\n",
    "#    print(feature, logs_detail.columns[feature])\n",
    "#    plt.hist(logs_detail[logs_detail.columns[feature]], 20)\n",
    "#    plt.title(logs_detail.columns[feature])\n",
    "\n",
    "logs_detail.drop(['msno','date'], axis=1).describe().round(1)"
   ]
  },
  {
   "cell_type": "markdown",
   "metadata": {},
   "source": [
    "Now we will aggregate the user logs into a single record per user. We aggregate at 3 levels:\n",
    "1. Per user:\n",
    "    + Total number of logins\n",
    "2. Per user per month:\n",
    "    + Average logins per month\n",
    "3. Per user per login:\n",
    "    + Average # songs listened to 0-25% of the way through per login\n",
    "    + Average # songs listened to 26-50% of the way through per login\n",
    "    + Average # songs listened to 51-75% of the way through per login\n",
    "    + Average # songs listened to 76-98.5% of the way through per login\n",
    "    + Average # songs listened to 98.5-100% of the way through per login\n",
    "    + Average # unique songs listened to per login\n",
    "    + Average total seconds of music per login"
   ]
  },
  {
   "cell_type": "code",
   "execution_count": 32,
   "metadata": {
    "collapsed": true
   },
   "outputs": [],
   "source": [
    "# Aggregate user log data\n",
    "\n",
    "# Get average logins per month\n",
    "avg_monthly_logs = logs_detail.groupby(by=['msno','YearMonth'], as_index=False)['date'].count()\n",
    "avg_monthly_logs = avg_monthly_logs.groupby(['msno'], as_index=False)['date'].mean()\n",
    "avg_monthly_logs.columns = avg_monthly_logs.rename(columns={'date': 'avg_monthly_logs'}).columns\n",
    "\n",
    "# Aggregate some login information by user\n",
    "agg_by_user = logs_detail.groupby(by=['msno'], as_index=False).agg({\n",
    "    'date': 'count',\n",
    "    'num_25': 'mean',\n",
    "    'num_50': 'mean',\n",
    "    'num_75': 'mean',\n",
    "    'num_985': 'mean',\n",
    "    'num_100': 'mean',\n",
    "    'num_unq': 'mean',\n",
    "    'total_secs': 'mean'\n",
    "})\n",
    "agg_by_user.columns = agg_by_user.rename(columns={'date': 'total_logins',\n",
    "                                                  'num_25': 'avg_num_25',\n",
    "                                                  'num_50': 'avg_num_50',\n",
    "                                                  'num_75': 'avg_num_75',\n",
    "                                                  'num_985': 'avg_num_985',\n",
    "                                                  'num_100': 'avg_num_100',\n",
    "                                                  'num_unq': 'avg_num_unq',\n",
    "                                                  'total_secs': 'avg_total_secs'\n",
    "                                                 }).columns\n",
    "\n",
    "# Merge aggregated datasets\n",
    "logs_aggregated = pd.merge(agg_by_user, avg_monthly_logs, on='msno', how='left')\n",
    "del avg_monthly_logs, agg_by_user"
   ]
  },
  {
   "cell_type": "markdown",
   "metadata": {},
   "source": [
    "The aggregated logs give us information for 17,536 of the users in our set of 20,000."
   ]
  },
  {
   "cell_type": "code",
   "execution_count": 33,
   "metadata": {},
   "outputs": [
    {
     "name": "stdout",
     "output_type": "stream",
     "text": [
      "(17536, 10)\n"
     ]
    },
    {
     "data": {
      "text/html": [
       "<div>\n",
       "<style>\n",
       "    .dataframe thead tr:only-child th {\n",
       "        text-align: right;\n",
       "    }\n",
       "\n",
       "    .dataframe thead th {\n",
       "        text-align: left;\n",
       "    }\n",
       "\n",
       "    .dataframe tbody tr th {\n",
       "        vertical-align: top;\n",
       "    }\n",
       "</style>\n",
       "<table border=\"1\" class=\"dataframe\">\n",
       "  <thead>\n",
       "    <tr style=\"text-align: right;\">\n",
       "      <th></th>\n",
       "      <th>msno</th>\n",
       "      <th>avg_num_985</th>\n",
       "      <th>avg_num_50</th>\n",
       "      <th>avg_total_secs</th>\n",
       "      <th>avg_num_25</th>\n",
       "      <th>avg_num_75</th>\n",
       "      <th>avg_num_unq</th>\n",
       "      <th>total_logins</th>\n",
       "      <th>avg_num_100</th>\n",
       "      <th>avg_monthly_logs</th>\n",
       "    </tr>\n",
       "  </thead>\n",
       "  <tbody>\n",
       "    <tr>\n",
       "      <th>0</th>\n",
       "      <td>++5BmBHS2ebe4Whfg/7KhGkj/sQ6rtNHsktLxsI01KE=</td>\n",
       "      <td>0.495868</td>\n",
       "      <td>1.103306</td>\n",
       "      <td>2340.745037</td>\n",
       "      <td>3.260331</td>\n",
       "      <td>0.764463</td>\n",
       "      <td>11.652893</td>\n",
       "      <td>242</td>\n",
       "      <td>7.987603</td>\n",
       "      <td>11.000000</td>\n",
       "    </tr>\n",
       "    <tr>\n",
       "      <th>1</th>\n",
       "      <td>+/fLVvbupWg/9UysOyhPUQfGDQYKuWxSyuTEUk/n3iw=</td>\n",
       "      <td>0.658249</td>\n",
       "      <td>0.749158</td>\n",
       "      <td>13633.042589</td>\n",
       "      <td>1.868687</td>\n",
       "      <td>0.569024</td>\n",
       "      <td>42.752525</td>\n",
       "      <td>594</td>\n",
       "      <td>54.121212</td>\n",
       "      <td>22.846154</td>\n",
       "    </tr>\n",
       "    <tr>\n",
       "      <th>2</th>\n",
       "      <td>+/jSNRMnEqElT4tO+UpL6aXwHLCXMLOy5nCa4Kic6rI=</td>\n",
       "      <td>0.677419</td>\n",
       "      <td>1.193548</td>\n",
       "      <td>5492.172323</td>\n",
       "      <td>7.225806</td>\n",
       "      <td>1.032258</td>\n",
       "      <td>25.483871</td>\n",
       "      <td>31</td>\n",
       "      <td>19.870968</td>\n",
       "      <td>6.200000</td>\n",
       "    </tr>\n",
       "    <tr>\n",
       "      <th>3</th>\n",
       "      <td>+0GTEEgfgwMjhIF9RJqCOQCaWUQeNKMRyj02XbLFJzI=</td>\n",
       "      <td>0.403509</td>\n",
       "      <td>0.973684</td>\n",
       "      <td>2960.805026</td>\n",
       "      <td>3.850877</td>\n",
       "      <td>0.508772</td>\n",
       "      <td>12.640351</td>\n",
       "      <td>114</td>\n",
       "      <td>10.043860</td>\n",
       "      <td>9.500000</td>\n",
       "    </tr>\n",
       "    <tr>\n",
       "      <th>4</th>\n",
       "      <td>+0NnoDS9yGuq0gehgigylB3mNMRdOEDtLa6SnC0v3+w=</td>\n",
       "      <td>0.666667</td>\n",
       "      <td>0.752874</td>\n",
       "      <td>2921.265316</td>\n",
       "      <td>4.114943</td>\n",
       "      <td>0.568966</td>\n",
       "      <td>9.488506</td>\n",
       "      <td>174</td>\n",
       "      <td>10.488506</td>\n",
       "      <td>10.235294</td>\n",
       "    </tr>\n",
       "  </tbody>\n",
       "</table>\n",
       "</div>"
      ],
      "text/plain": [
       "                                           msno  avg_num_985  avg_num_50  \\\n",
       "0  ++5BmBHS2ebe4Whfg/7KhGkj/sQ6rtNHsktLxsI01KE=     0.495868    1.103306   \n",
       "1  +/fLVvbupWg/9UysOyhPUQfGDQYKuWxSyuTEUk/n3iw=     0.658249    0.749158   \n",
       "2  +/jSNRMnEqElT4tO+UpL6aXwHLCXMLOy5nCa4Kic6rI=     0.677419    1.193548   \n",
       "3  +0GTEEgfgwMjhIF9RJqCOQCaWUQeNKMRyj02XbLFJzI=     0.403509    0.973684   \n",
       "4  +0NnoDS9yGuq0gehgigylB3mNMRdOEDtLa6SnC0v3+w=     0.666667    0.752874   \n",
       "\n",
       "   avg_total_secs  avg_num_25  avg_num_75  avg_num_unq  total_logins  \\\n",
       "0     2340.745037    3.260331    0.764463    11.652893           242   \n",
       "1    13633.042589    1.868687    0.569024    42.752525           594   \n",
       "2     5492.172323    7.225806    1.032258    25.483871            31   \n",
       "3     2960.805026    3.850877    0.508772    12.640351           114   \n",
       "4     2921.265316    4.114943    0.568966     9.488506           174   \n",
       "\n",
       "   avg_num_100  avg_monthly_logs  \n",
       "0     7.987603         11.000000  \n",
       "1    54.121212         22.846154  \n",
       "2    19.870968          6.200000  \n",
       "3    10.043860          9.500000  \n",
       "4    10.488506         10.235294  "
      ]
     },
     "execution_count": 33,
     "metadata": {},
     "output_type": "execute_result"
    }
   ],
   "source": [
    "print (logs_aggregated.shape)\n",
    "logs_aggregated.head()"
   ]
  },
  {
   "cell_type": "markdown",
   "metadata": {},
   "source": [
    "The histograms below show the distributions of the average song count variables, average total seconds, average monthly logins, and total logins. The song count variables are all skewed right, as are average total seconds and average total logins. Logins per month ranges from 1 to 30."
   ]
  },
  {
   "cell_type": "code",
   "execution_count": 34,
   "metadata": {},
   "outputs": [
    {
     "data": {
      "image/png": "[encoded data removed]",
      "text/plain": [
       "<matplotlib.figure.Figure at 0x1133dacc0>"
      ]
     },
     "metadata": {},
     "output_type": "display_data"
    }
   ],
   "source": [
    "plt.figure(figsize=(15, 12))\n",
    "\n",
    "# Iterate over the features, creating a subplot with a histogram for each one.\n",
    "for feature in range(1, logs_aggregated.shape[1]):\n",
    "    plt.subplot(3, 3, feature)\n",
    "    #print(feature, logs_aggregated.columns[feature])\n",
    "    plt.hist(logs_aggregated[logs_aggregated.columns[feature]], 20)\n",
    "    plt.title(logs_aggregated.columns[feature])"
   ]
  },
  {
   "cell_type": "markdown",
   "metadata": {},
   "source": [
    "# Prepare Data For Model"
   ]
  },
  {
   "cell_type": "markdown",
   "metadata": {},
   "source": [
    "### Merge Data and Split into Train & Test\n",
    "We now merge our four data sources: members, aggregated transactions, aggregated user logs, and the churn labels. The transactions are left joined to members and user logs since every user has transaction data. The final data is shown below."
   ]
  },
  {
   "cell_type": "code",
   "execution_count": 35,
   "metadata": {},
   "outputs": [
    {
     "name": "stdout",
     "output_type": "stream",
     "text": [
      "(20000, 94)\n"
     ]
    },
    {
     "data": {
      "text/html": [
       "<div>\n",
       "<style>\n",
       "    .dataframe thead tr:only-child th {\n",
       "        text-align: right;\n",
       "    }\n",
       "\n",
       "    .dataframe thead th {\n",
       "        text-align: left;\n",
       "    }\n",
       "\n",
       "    .dataframe tbody tr th {\n",
       "        vertical-align: top;\n",
       "    }\n",
       "</style>\n",
       "<table border=\"1\" class=\"dataframe\">\n",
       "  <thead>\n",
       "    <tr style=\"text-align: right;\">\n",
       "      <th></th>\n",
       "      <th>msno</th>\n",
       "      <th>pct_auto_renew</th>\n",
       "      <th>count_cancel_trans</th>\n",
       "      <th>count_non_cancel_trans</th>\n",
       "      <th>pct_late_pmt</th>\n",
       "      <th>count_trans_w_payment</th>\n",
       "      <th>last_plan_days</th>\n",
       "      <th>latest_trans_auto_renew</th>\n",
       "      <th>latest_trans_cancel</th>\n",
       "      <th>pct_plan_days_0</th>\n",
       "      <th>...</th>\n",
       "      <th>avg_num_985</th>\n",
       "      <th>avg_num_50</th>\n",
       "      <th>avg_total_secs</th>\n",
       "      <th>avg_num_25</th>\n",
       "      <th>avg_num_75</th>\n",
       "      <th>avg_num_unq</th>\n",
       "      <th>total_logins</th>\n",
       "      <th>avg_num_100</th>\n",
       "      <th>avg_monthly_logs</th>\n",
       "      <th>is_churn</th>\n",
       "    </tr>\n",
       "  </thead>\n",
       "  <tbody>\n",
       "    <tr>\n",
       "      <th>0</th>\n",
       "      <td>++5BmBHS2ebe4Whfg/7KhGkj/sQ6rtNHsktLxsI01KE=</td>\n",
       "      <td>1.0</td>\n",
       "      <td>0</td>\n",
       "      <td>15</td>\n",
       "      <td>0.266667</td>\n",
       "      <td>15</td>\n",
       "      <td>30</td>\n",
       "      <td>1</td>\n",
       "      <td>0</td>\n",
       "      <td>0.0</td>\n",
       "      <td>...</td>\n",
       "      <td>0.495868</td>\n",
       "      <td>1.103306</td>\n",
       "      <td>2340.745037</td>\n",
       "      <td>3.260331</td>\n",
       "      <td>0.764463</td>\n",
       "      <td>11.652893</td>\n",
       "      <td>242.0</td>\n",
       "      <td>7.987603</td>\n",
       "      <td>11.000000</td>\n",
       "      <td>0</td>\n",
       "    </tr>\n",
       "    <tr>\n",
       "      <th>1</th>\n",
       "      <td>++aFrWPzVzGo/Q0I1nze64DYFOAD8kneadlQKmmYTjA=</td>\n",
       "      <td>1.0</td>\n",
       "      <td>0</td>\n",
       "      <td>9</td>\n",
       "      <td>0.111111</td>\n",
       "      <td>9</td>\n",
       "      <td>30</td>\n",
       "      <td>1</td>\n",
       "      <td>0</td>\n",
       "      <td>0.0</td>\n",
       "      <td>...</td>\n",
       "      <td>NaN</td>\n",
       "      <td>NaN</td>\n",
       "      <td>NaN</td>\n",
       "      <td>NaN</td>\n",
       "      <td>NaN</td>\n",
       "      <td>NaN</td>\n",
       "      <td>NaN</td>\n",
       "      <td>NaN</td>\n",
       "      <td>NaN</td>\n",
       "      <td>0</td>\n",
       "    </tr>\n",
       "    <tr>\n",
       "      <th>2</th>\n",
       "      <td>+/1EDtwrn7StJp1C1SZWgbawUVFH2sWreBSTaFsv3lo=</td>\n",
       "      <td>1.0</td>\n",
       "      <td>0</td>\n",
       "      <td>3</td>\n",
       "      <td>0.666667</td>\n",
       "      <td>3</td>\n",
       "      <td>30</td>\n",
       "      <td>1</td>\n",
       "      <td>0</td>\n",
       "      <td>0.0</td>\n",
       "      <td>...</td>\n",
       "      <td>NaN</td>\n",
       "      <td>NaN</td>\n",
       "      <td>NaN</td>\n",
       "      <td>NaN</td>\n",
       "      <td>NaN</td>\n",
       "      <td>NaN</td>\n",
       "      <td>NaN</td>\n",
       "      <td>NaN</td>\n",
       "      <td>NaN</td>\n",
       "      <td>0</td>\n",
       "    </tr>\n",
       "    <tr>\n",
       "      <th>3</th>\n",
       "      <td>+/fLVvbupWg/9UysOyhPUQfGDQYKuWxSyuTEUk/n3iw=</td>\n",
       "      <td>1.0</td>\n",
       "      <td>1</td>\n",
       "      <td>27</td>\n",
       "      <td>0.037037</td>\n",
       "      <td>28</td>\n",
       "      <td>30</td>\n",
       "      <td>1</td>\n",
       "      <td>0</td>\n",
       "      <td>0.0</td>\n",
       "      <td>...</td>\n",
       "      <td>0.658249</td>\n",
       "      <td>0.749158</td>\n",
       "      <td>13633.042589</td>\n",
       "      <td>1.868687</td>\n",
       "      <td>0.569024</td>\n",
       "      <td>42.752525</td>\n",
       "      <td>594.0</td>\n",
       "      <td>54.121212</td>\n",
       "      <td>22.846154</td>\n",
       "      <td>0</td>\n",
       "    </tr>\n",
       "    <tr>\n",
       "      <th>4</th>\n",
       "      <td>+/jSNRMnEqElT4tO+UpL6aXwHLCXMLOy5nCa4Kic6rI=</td>\n",
       "      <td>1.0</td>\n",
       "      <td>0</td>\n",
       "      <td>5</td>\n",
       "      <td>0.000000</td>\n",
       "      <td>5</td>\n",
       "      <td>30</td>\n",
       "      <td>1</td>\n",
       "      <td>0</td>\n",
       "      <td>0.0</td>\n",
       "      <td>...</td>\n",
       "      <td>0.677419</td>\n",
       "      <td>1.193548</td>\n",
       "      <td>5492.172323</td>\n",
       "      <td>7.225806</td>\n",
       "      <td>1.032258</td>\n",
       "      <td>25.483871</td>\n",
       "      <td>31.0</td>\n",
       "      <td>19.870968</td>\n",
       "      <td>6.200000</td>\n",
       "      <td>0</td>\n",
       "    </tr>\n",
       "  </tbody>\n",
       "</table>\n",
       "<p>5 rows × 94 columns</p>\n",
       "</div>"
      ],
      "text/plain": [
       "                                           msno  pct_auto_renew  \\\n",
       "0  ++5BmBHS2ebe4Whfg/7KhGkj/sQ6rtNHsktLxsI01KE=             1.0   \n",
       "1  ++aFrWPzVzGo/Q0I1nze64DYFOAD8kneadlQKmmYTjA=             1.0   \n",
       "2  +/1EDtwrn7StJp1C1SZWgbawUVFH2sWreBSTaFsv3lo=             1.0   \n",
       "3  +/fLVvbupWg/9UysOyhPUQfGDQYKuWxSyuTEUk/n3iw=             1.0   \n",
       "4  +/jSNRMnEqElT4tO+UpL6aXwHLCXMLOy5nCa4Kic6rI=             1.0   \n",
       "\n",
       "   count_cancel_trans  count_non_cancel_trans  pct_late_pmt  \\\n",
       "0                   0                      15      0.266667   \n",
       "1                   0                       9      0.111111   \n",
       "2                   0                       3      0.666667   \n",
       "3                   1                      27      0.037037   \n",
       "4                   0                       5      0.000000   \n",
       "\n",
       "   count_trans_w_payment  last_plan_days  latest_trans_auto_renew  \\\n",
       "0                     15              30                        1   \n",
       "1                      9              30                        1   \n",
       "2                      3              30                        1   \n",
       "3                     28              30                        1   \n",
       "4                      5              30                        1   \n",
       "\n",
       "   latest_trans_cancel  pct_plan_days_0    ...     avg_num_985  avg_num_50  \\\n",
       "0                    0              0.0    ...        0.495868    1.103306   \n",
       "1                    0              0.0    ...             NaN         NaN   \n",
       "2                    0              0.0    ...             NaN         NaN   \n",
       "3                    0              0.0    ...        0.658249    0.749158   \n",
       "4                    0              0.0    ...        0.677419    1.193548   \n",
       "\n",
       "   avg_total_secs  avg_num_25  avg_num_75  avg_num_unq  total_logins  \\\n",
       "0     2340.745037    3.260331    0.764463    11.652893         242.0   \n",
       "1             NaN         NaN         NaN          NaN           NaN   \n",
       "2             NaN         NaN         NaN          NaN           NaN   \n",
       "3    13633.042589    1.868687    0.569024    42.752525         594.0   \n",
       "4     5492.172323    7.225806    1.032258    25.483871          31.0   \n",
       "\n",
       "   avg_num_100  avg_monthly_logs  is_churn  \n",
       "0     7.987603         11.000000         0  \n",
       "1          NaN               NaN         0  \n",
       "2          NaN               NaN         0  \n",
       "3    54.121212         22.846154         0  \n",
       "4    19.870968          6.200000         0  \n",
       "\n",
       "[5 rows x 94 columns]"
      ]
     },
     "execution_count": 35,
     "metadata": {},
     "output_type": "execute_result"
    }
   ],
   "source": [
    "# Merge members, transactions, user logs, and churn information\n",
    "final_data = pd.merge(trans_aggregated, members.drop('registration_init_time', axis=1), on='msno', how='left')\n",
    "final_data = pd.merge(final_data, logs_aggregated, on='msno', how='left')\n",
    "final_data = pd.merge(final_data, churn_labels, on='msno', how='inner')\n",
    "\n",
    "print (final_data.shape)\n",
    "final_data.head()"
   ]
  },
  {
   "cell_type": "markdown",
   "metadata": {},
   "source": [
    "Next we break off the `is_churn` variable into its own dataframe so it can serve as our target (predicted) variable."
   ]
  },
  {
   "cell_type": "code",
   "execution_count": 36,
   "metadata": {},
   "outputs": [
    {
     "name": "stdout",
     "output_type": "stream",
     "text": [
      "(20000, 93)\n",
      "(20000,)\n"
     ]
    }
   ],
   "source": [
    "# Break is_churn off into its own dataframe\n",
    "final_labels = final_data.is_churn\n",
    "final_data = final_data.drop('is_churn', axis=1)\n",
    "\n",
    "print (final_data.shape)\n",
    "print (final_labels.shape)"
   ]
  },
  {
   "cell_type": "markdown",
   "metadata": {},
   "source": [
    "Finally, we split the data into a train, dev, and test set. The dev set will help us tune our model before we apply it to our test data."
   ]
  },
  {
   "cell_type": "code",
   "execution_count": 37,
   "metadata": {},
   "outputs": [
    {
     "name": "stdout",
     "output_type": "stream",
     "text": [
      "Train: (15000, 93) (15000,)\n",
      "Dev: (1000, 93) (1000,)\n",
      "Test: (4000, 93) (4000,)\n"
     ]
    }
   ],
   "source": [
    "split1 = int(len(final_data) * 0.75)\n",
    "split2 = int(len(final_data) * 0.8)\n",
    "\n",
    "# Train-test split\n",
    "test_data, test_labels = final_data[split2:], final_labels[split2:]\n",
    "dev_data, dev_labels = final_data[split1:split2], final_labels[split1:split2]\n",
    "train_data, train_labels = final_data[:split1], final_labels[:split1]\n",
    "\n",
    "print ('Train:', train_data.shape, train_labels.shape)\n",
    "print ('Dev:', dev_data.shape, dev_labels.shape)\n",
    "print ('Test:', test_data.shape, test_labels.shape)"
   ]
  },
  {
   "cell_type": "markdown",
   "metadata": {},
   "source": [
    "### Pipeline"
   ]
  },
  {
   "cell_type": "markdown",
   "metadata": {},
   "source": [
    "The final step to prepare our data for modeling is to impute missing values and normalize everything. We will apply different types of processing to different types of variables, so the first step is to split the predictors into different types: numeric, categorical, binary, and datetime. Note that our datetime predictor list is empty; although we created a pipeline for this type of variable, we did not ultimately include any datetime features in our final data."
   ]
  },
  {
   "cell_type": "code",
   "execution_count": 38,
   "metadata": {},
   "outputs": [
    {
     "data": {
      "text/plain": [
       "Index(['msno', 'pct_auto_renew', 'count_cancel_trans',\n",
       "       'count_non_cancel_trans', 'pct_late_pmt', 'count_trans_w_payment',\n",
       "       'last_plan_days', 'latest_trans_auto_renew', 'latest_trans_cancel',\n",
       "       'pct_plan_days_0', 'pct_plan_days_1', 'pct_plan_days_3',\n",
       "       'pct_plan_days_7', 'pct_plan_days_10', 'pct_plan_days_14',\n",
       "       'pct_plan_days_21', 'pct_plan_days_30', 'pct_plan_days_31',\n",
       "       'pct_plan_days_35', 'pct_plan_days_60', 'pct_plan_days_66',\n",
       "       'pct_plan_days_70', 'pct_plan_days_90', 'pct_plan_days_100',\n",
       "       'pct_plan_days_110', 'pct_plan_days_120', 'pct_plan_days_180',\n",
       "       'pct_plan_days_195', 'pct_plan_days_200', 'pct_plan_days_240',\n",
       "       'pct_plan_days_270', 'pct_plan_days_360', 'pct_plan_days_365',\n",
       "       'pct_plan_days_395', 'pct_plan_days_400', 'pct_plan_days_410',\n",
       "       'pct_plan_days_450', 'pct_pmt_method_3', 'pct_pmt_method_5',\n",
       "       'pct_pmt_method_6', 'pct_pmt_method_8', 'pct_pmt_method_10',\n",
       "       'pct_pmt_method_11', 'pct_pmt_method_12', 'pct_pmt_method_13',\n",
       "       'pct_pmt_method_14', 'pct_pmt_method_15', 'pct_pmt_method_16',\n",
       "       'pct_pmt_method_17', 'pct_pmt_method_18', 'pct_pmt_method_19',\n",
       "       'pct_pmt_method_20', 'pct_pmt_method_21', 'pct_pmt_method_22',\n",
       "       'pct_pmt_method_23', 'pct_pmt_method_24', 'pct_pmt_method_25',\n",
       "       'pct_pmt_method_26', 'pct_pmt_method_27', 'pct_pmt_method_28',\n",
       "       'pct_pmt_method_29', 'pct_pmt_method_30', 'pct_pmt_method_31',\n",
       "       'pct_pmt_method_32', 'pct_pmt_method_33', 'pct_pmt_method_34',\n",
       "       'pct_pmt_method_35', 'pct_pmt_method_36', 'pct_pmt_method_37',\n",
       "       'pct_pmt_method_38', 'pct_pmt_method_39', 'pct_pmt_method_40',\n",
       "       'pct_pmt_method_41', 'customer_lifetime', 'days_since_last_trans',\n",
       "       'avg_daily_list_price', 'avg_daily_discount', 'switched_membership',\n",
       "       'city', 'bd', 'gender', 'registered_via', 'registration_month',\n",
       "       'member_profile_complete', 'avg_num_985', 'avg_num_50',\n",
       "       'avg_total_secs', 'avg_num_25', 'avg_num_75', 'avg_num_unq',\n",
       "       'total_logins', 'avg_num_100', 'avg_monthly_logs'],\n",
       "      dtype='object')"
      ]
     },
     "execution_count": 38,
     "metadata": {},
     "output_type": "execute_result"
    }
   ],
   "source": [
    "final_data.columns"
   ]
  },
  {
   "cell_type": "code",
   "execution_count": 39,
   "metadata": {
    "collapsed": true
   },
   "outputs": [],
   "source": [
    "# Names of data features\n",
    "predictors_numeric = ['bd','registration_month', # from members\n",
    "                      'count_cancel_trans','count_non_cancel_trans','count_trans_w_payment', # from transactions\n",
    "                      'pct_auto_renew','pct_late_pmt','last_plan_days', # from transactions\n",
    "                      'pct_plan_days_0','pct_plan_days_1','pct_plan_days_3', # from transactions\n",
    "                      'pct_plan_days_7','pct_plan_days_10','pct_plan_days_14', # from transactions\n",
    "                      'pct_plan_days_21','pct_plan_days_30','pct_plan_days_31', # from transactions\n",
    "                      'pct_plan_days_35','pct_plan_days_60','pct_plan_days_66', # from transactions\n",
    "                      'pct_plan_days_70','pct_plan_days_90','pct_plan_days_100', # from transactions\n",
    "                      'pct_plan_days_110','pct_plan_days_120','pct_plan_days_180', # from transactions\n",
    "                      'pct_plan_days_195','pct_plan_days_200','pct_plan_days_240', # from transactions\n",
    "                      'pct_plan_days_270','pct_plan_days_360','pct_plan_days_365', # from transactions\n",
    "                      'pct_plan_days_395','pct_plan_days_400','pct_plan_days_410', # from transactions\n",
    "                      'pct_plan_days_450','pct_pmt_method_3','pct_pmt_method_5', # from transactions\n",
    "                      'pct_pmt_method_6','pct_pmt_method_8','pct_pmt_method_10', # from transactions\n",
    "                      'pct_pmt_method_11','pct_pmt_method_12','pct_pmt_method_13', # from transactions\n",
    "                      'pct_pmt_method_14','pct_pmt_method_15','pct_pmt_method_16', # from transactions\n",
    "                      'pct_pmt_method_17','pct_pmt_method_18','pct_pmt_method_19', # from transactions\n",
    "                      'pct_pmt_method_20','pct_pmt_method_21','pct_pmt_method_22', # from transactions\n",
    "                      'pct_pmt_method_23','pct_pmt_method_24','pct_pmt_method_25', # from transactions\n",
    "                      'pct_pmt_method_26','pct_pmt_method_27','pct_pmt_method_28', # from transactions\n",
    "                      'pct_pmt_method_29','pct_pmt_method_30','pct_pmt_method_31', # from transactions\n",
    "                      'pct_pmt_method_32','pct_pmt_method_33','pct_pmt_method_34', # from transactions\n",
    "                      'pct_pmt_method_35','pct_pmt_method_36','pct_pmt_method_37', # from transactions\n",
    "                      'pct_pmt_method_38','pct_pmt_method_39','pct_pmt_method_40', # from transactions\n",
    "                      'pct_pmt_method_41','customer_lifetime','days_since_last_trans', # from transactions\n",
    "                      'avg_daily_list_price','avg_daily_discount', # from transactions\n",
    "                      'avg_num_25','avg_num_50','avg_num_75','avg_num_985','avg_num_100', # from user logs\n",
    "                      'avg_num_unq','avg_total_secs','avg_monthly_logs','total_logins'] # from user logs\n",
    "predictors_categorical = ['city','gender','registered_via','member_profile_complete'] # from members\n",
    "predictors_binary = ['latest_trans_auto_renew','latest_trans_cancel','switched_membership'] # from transactions\n",
    "predictors_datetime = []"
   ]
  },
  {
   "cell_type": "code",
   "execution_count": 40,
   "metadata": {},
   "outputs": [
    {
     "data": {
      "text/plain": [
       "92"
      ]
     },
     "execution_count": 40,
     "metadata": {},
     "output_type": "execute_result"
    }
   ],
   "source": [
    "# Check we included all needed variables in the lists above\n",
    "# --> should be one less than what's in final_data because we don't need 'msno'\n",
    "len(predictors_numeric) + len(predictors_categorical) + len(predictors_binary) + len(predictors_datetime)"
   ]
  },
  {
   "cell_type": "markdown",
   "metadata": {},
   "source": [
    "Next we create each pipeline. The numeric pipeline selects the columns of numeric predictors from the dataframe, imputes any missing values as the mean of the column, and then normalizes everything."
   ]
  },
  {
   "cell_type": "code",
   "execution_count": 41,
   "metadata": {
    "collapsed": true
   },
   "outputs": [],
   "source": [
    "# Numerical pipeline\n",
    "def select_numeric_features(X):\n",
    "    return X[predictors_numeric]\n",
    "\n",
    "pipeline_numeric = Pipeline(steps=[\n",
    "    ('select', FunctionTransformer(select_numeric_features, validate=False)),\n",
    "    ('impute', Imputer(strategy='mean')),\n",
    "    ('scale', StandardScaler())\n",
    "])"
   ]
  },
  {
   "cell_type": "markdown",
   "metadata": {},
   "source": [
    "The pipeline for categorical variables selects the categorical predictors and converts any non-string columns to strings. It then creates a dictionary of all possible values in the row (e.g. in the case of gender, after converting all values to strings, the dictionary will consist of 'male', 'female', and 'nan'). The pipeline then creates a binary variable for each value in the dictionary, so gender will be transformed into three binary columns: 'gender=male', 'gender=female', and 'gender=nan'."
   ]
  },
  {
   "cell_type": "code",
   "execution_count": 42,
   "metadata": {
    "collapsed": true
   },
   "outputs": [],
   "source": [
    "# Categorical pipeline\n",
    "def select_categorical_features(X):\n",
    "    return X[predictors_categorical]\n",
    "\n",
    "def ensure_datatype(X):\n",
    "    return X.apply(lambda col: col.astype(str))\n",
    "\n",
    "def make_dictionaries(X):\n",
    "    return X.to_dict(orient='records')\n",
    "\n",
    "pipeline_categorical = Pipeline(steps=[\n",
    "    ('select', FunctionTransformer(select_categorical_features, validate=False)),\n",
    "    ('dtype', FunctionTransformer(ensure_datatype, validate=False)),\n",
    "    ('dict', FunctionTransformer(make_dictionaries, validate=False)),\n",
    "    ('vectorize', DictVectorizer(sparse=False))\n",
    "])"
   ]
  },
  {
   "cell_type": "markdown",
   "metadata": {},
   "source": [
    "Our binary pipeline simply selects binary features and imputes missing values with the mode. We do not include these variables in the categorical pipeline because they have already been \"vectorized\" into binary features."
   ]
  },
  {
   "cell_type": "code",
   "execution_count": 43,
   "metadata": {
    "collapsed": true
   },
   "outputs": [],
   "source": [
    "# Binary pipeline\n",
    "def select_binary_features(X):\n",
    "    return X[predictors_binary]\n",
    "\n",
    "pipeline_binary = Pipeline(steps=[\n",
    "    ('select', FunctionTransformer(select_binary_features, validate=False)),\n",
    "    ('impute', Imputer(strategy='most_frequent'))\n",
    "])"
   ]
  },
  {
   "cell_type": "markdown",
   "metadata": {},
   "source": [
    "Finally, the datetime pipeline selects all datetime features, which are all formatted as YYYYMMDD integers in our data. Since this type of formatting makes the dates non-continuous (e.g. there are no values between 20151231 and 20160101), the pipeline converts everything to datetime to make it continuous. However, we can't calculate mean and standard deviation on datetime variables, so we make a second transformation to the ordinal numbers corresponding to each date. Then we can impute the missing values as the mean and apply standard scaling."
   ]
  },
  {
   "cell_type": "code",
   "execution_count": 44,
   "metadata": {
    "collapsed": true
   },
   "outputs": [],
   "source": [
    "# Datetime pipeline\n",
    "def select_datetime_features(X):\n",
    "    return X[predictors_datetime]\n",
    "\n",
    "def number_to_datetime(X):\n",
    "    X2 = pd.DataFrame()\n",
    "    for i in range(X.shape[1]):\n",
    "        col = X.columns[i]\n",
    "        X2[col] = pd.to_datetime(X[col], format='%Y%m%d')\n",
    "    return X2\n",
    "\n",
    "def datetime_to_ordinal(X):\n",
    "    X2 = pd.DataFrame()\n",
    "    for i in range(X.shape[1]):\n",
    "        col = X.columns[i]\n",
    "        X2[col] = X[col].map(dt.datetime.toordinal).replace(1, np.NaN)\n",
    "    return X2\n",
    "\n",
    "pipeline_datetime = Pipeline(steps=[\n",
    "    ('select', FunctionTransformer(select_datetime_features, validate=False)),\n",
    "    ('to_date', FunctionTransformer(number_to_datetime, validate=False)),\n",
    "    ('to_ordinal', FunctionTransformer(datetime_to_ordinal, validate=False)),\n",
    "    ('impute', Imputer(strategy='mean')),\n",
    "    ('scale', StandardScaler())\n",
    "])"
   ]
  },
  {
   "cell_type": "markdown",
   "metadata": {},
   "source": [
    "The four pipelines are combined into a feature union. The datetime feature is commented out since we have not included any datetime features."
   ]
  },
  {
   "cell_type": "code",
   "execution_count": 45,
   "metadata": {
    "collapsed": true
   },
   "outputs": [],
   "source": [
    "# Unite all pipelines\n",
    "feature_union = FeatureUnion([('numeric', pipeline_numeric),\n",
    "                              ('categorical', pipeline_categorical),\n",
    "                              ('binary', pipeline_binary)#,\n",
    "                              #('datetime', pipeline_datetime)\n",
    "                             ])"
   ]
  },
  {
   "cell_type": "markdown",
   "metadata": {},
   "source": [
    "### Fit Pipeline and Use It To Transform All Data\n",
    "Now we fit the pipeline to the training data and use the fitted pipeline to transform the training, dev, and test data. The transformed data consists entirely of normalized or binarized variables and has no missing values (an example row is shown below). This transformed data is what we will use in our model."
   ]
  },
  {
   "cell_type": "code",
   "execution_count": 46,
   "metadata": {
    "collapsed": true
   },
   "outputs": [],
   "source": [
    "train_data_transformed = feature_union.fit_transform(train_data)\n",
    "dev_data_transformed = feature_union.fit(train_data).transform(dev_data)\n",
    "test_data_transformed = feature_union.fit(train_data).transform(test_data)"
   ]
  },
  {
   "cell_type": "code",
   "execution_count": 47,
   "metadata": {},
   "outputs": [
    {
     "name": "stdout",
     "output_type": "stream",
     "text": [
      "Train data: (15000, 122)\n",
      "Dev data: (1000, 122)\n",
      "Test data: (4000, 122)\n"
     ]
    }
   ],
   "source": [
    "print ('Train data:', train_data_transformed.shape)\n",
    "print ('Dev data:', dev_data_transformed.shape)\n",
    "print ('Test data:', test_data_transformed.shape)"
   ]
  },
  {
   "cell_type": "code",
   "execution_count": 48,
   "metadata": {},
   "outputs": [
    {
     "data": {
      "text/plain": [
       "array([ 0.    , -1.0769, -0.474 , -0.0824, -0.0996,  0.4036,  0.246 ,\n",
       "       -0.1251, -0.4217, -0.0376, -0.0082, -0.1426, -0.0333, -0.0216,\n",
       "       -0.0111,  0.5068, -0.3937, -0.0108, -0.0305,  0.    , -0.0082,\n",
       "       -0.0526, -0.0469, -0.0082, -0.0567, -0.054 , -0.098 , -0.0256,\n",
       "       -0.0193, -0.0113, -0.0238, -0.0082, -0.0294, -0.0188, -0.0953,\n",
       "       -0.0082,  0.    , -0.0082, -0.0082, -0.0082, -0.0115, -0.0082,\n",
       "       -0.0236, -0.021 , -0.0183, -0.0101, -0.0277, -0.0357, -0.0337,\n",
       "       -0.0339, -0.0472, -0.0355, -0.0425, -0.0427, -0.0405, -0.0352,\n",
       "       -0.0376, -0.0499, -0.0608, -0.1244, -0.1282, -0.0981, -0.1144,\n",
       "       -0.1248, -0.1765, -0.1524, -0.2655, -0.2117, -0.2963,  3.7734,\n",
       "       -0.3083, -1.1739,  0.1686,  0.1435,  0.7643, -0.2485, -0.4628,\n",
       "       -0.2561, -0.174 , -0.5354, -0.7883, -0.8407, -0.8296, -0.603 ,\n",
       "       -0.1947,  0.    ,  0.    ,  0.    ,  0.    ,  0.    ,  0.    ,\n",
       "        0.    ,  0.    ,  0.    ,  0.    ,  0.    ,  0.    ,  0.    ,\n",
       "        0.    ,  0.    ,  0.    ,  0.    ,  1.    ,  0.    ,  0.    ,\n",
       "        0.    ,  0.    ,  0.    ,  0.    ,  1.    ,  1.    ,  0.    ,\n",
       "        0.    ,  0.    ,  1.    ,  0.    ,  0.    ,  0.    ,  0.    ,\n",
       "        1.    ,  0.    ,  0.    ])"
      ]
     },
     "execution_count": 48,
     "metadata": {},
     "output_type": "execute_result"
    }
   ],
   "source": [
    "# Example row\n",
    "train_data_transformed[0].round(4)"
   ]
  },
  {
   "cell_type": "markdown",
   "metadata": {},
   "source": [
    "# Model Selection, Fit and Evaluation "
   ]
  },
  {
   "cell_type": "markdown",
   "metadata": {},
   "source": [
    "Having identified the KKBox requirement as a supervised learning problem from the outset, we now fit three such  models on the final dataset -- K-Nearest Neighbors, Bernoulli Naive Bayes as well as Logistic Regression. In each case the feature matrix is the set of attributes we have collected from transforming the attributes in KKBox's original files. This makes for 122 features in total. The target or Y-variable is the `is_churn` attribute taken from the KKBox train file. A value of 1 means the customer has churned as of February 2017 and 0 means the customer has renewed their subscription.\n",
    "\n",
    "Given the large number of features, we attempt to reduce dimensionality using Principal Components Analysis (PCA) in two ways. First we take the complete set of features and project them all to a specific number of components before feeding the data into the model. Alternatively, we take groupings of features that are naturally most related to one another and separately project them into fewer components before feeding into the model. This results in three different model specifications based on what comprises the feature matrix, namely:\n",
    "\n",
    " + All 122 features from Transformed Data \n",
    " + PCA on all features at once\n",
    " + Multiple, independent PCA on groups of naturally related features"
   ]
  },
  {
   "cell_type": "markdown",
   "metadata": {},
   "source": [
    "### Create PCA and Partial PCA Datasets\n",
    "Before defining the models, we generate the feature matrices with complete PCA (with all features) and partial PCA (with groups of related features)."
   ]
  },
  {
   "cell_type": "code",
   "execution_count": 49,
   "metadata": {},
   "outputs": [
    {
     "data": {
      "text/plain": [
       "(0, 1)"
      ]
     },
     "execution_count": 49,
     "metadata": {},
     "output_type": "execute_result"
    },
    {
     "data": {
      "image/png": "[encoded data removed]",
      "text/plain": [
       "<matplotlib.figure.Figure at 0x1174d42e8>"
      ]
     },
     "metadata": {},
     "output_type": "display_data"
    }
   ],
   "source": [
    "# PCA on everything\n",
    "\n",
    "# Project to principle components\n",
    "max_components = train_data_transformed.shape[1]\n",
    "pca = PCA(n_components=max_components)\n",
    "pca.fit(train_data_transformed, train_labels)\n",
    "\n",
    "plt.plot(np.cumsum(pca.explained_variance_ratio_))\n",
    "plt.xlabel('Number of Principal Components')\n",
    "plt.ylabel('% of Variance Explained')\n",
    "plt.ylim(0,1)"
   ]
  },
  {
   "cell_type": "markdown",
   "metadata": {},
   "source": [
    " Complete PCA shows that 90% of total variance is explained by 55 components. "
   ]
  },
  {
   "cell_type": "code",
   "execution_count": 50,
   "metadata": {},
   "outputs": [
    {
     "name": "stdout",
     "output_type": "stream",
     "text": [
      "Components: 55\n"
     ]
    }
   ],
   "source": [
    "# Number of components needed to get 90% of variance explained\n",
    "n_pca = np.sum(np.cumsum(pca.explained_variance_ratio_) < 0.9) + 1\n",
    "print ('Components:', n_pca)\n",
    "\n",
    "# Project everything to n_pca components\n",
    "pca = PCA(n_components=n_pca)\n",
    "pca.fit(train_data_transformed, train_labels)\n",
    "\n",
    "pca_train = pca.transform(train_data_transformed)\n",
    "pca_dev = pca.transform(dev_data_transformed)\n",
    "pca_test = pca.transform(test_data_transformed)"
   ]
  },
  {
   "cell_type": "code",
   "execution_count": 51,
   "metadata": {},
   "outputs": [
    {
     "name": "stdout",
     "output_type": "stream",
     "text": [
      "PCA train data: (15000, 55)\n",
      "PCA dev data: (1000, 55)\n",
      "PCA test data: (4000, 55)\n"
     ]
    }
   ],
   "source": [
    "print ('PCA train data:', pca_train.shape)\n",
    "print ('PCA dev data:', pca_dev.shape)\n",
    "print ('PCA test data:', pca_test.shape)"
   ]
  },
  {
   "cell_type": "markdown",
   "metadata": {},
   "source": [
    "Next we perform partial PCA based on the following groupings:\n",
    "+ **Userlogs Components**: this consists of all aggregated user log information including number of unique songs, total seconds as well as averages of the length the song was played. We collapse a total of 9 attributes into 2 components. \n",
    "+ **Percent Payment Method Components**: collapses the 36 features describing payment method type into 4 components. \n",
    "+ **Percent Payment Plan Days Components**: collapses the 29 features describing payment plan days into 4 components. \n",
    "+ **Transaction Counts Components**: this includes the count of transactions in which the member cancelled his/her subscription, count of transactions which are _not_ cancellations, and the count of transactions in which the customer paid some amount greater than 0."
   ]
  },
  {
   "cell_type": "code",
   "execution_count": 52,
   "metadata": {
    "collapsed": true
   },
   "outputs": [],
   "source": [
    "# PCA on a few specific components\n",
    "\n",
    "# 9 columns to 2 components -- user logs\n",
    "c1 = range(predictors_numeric.index('avg_num_25'), predictors_numeric.index('total_logins')+1)\n",
    "\n",
    "# 36 columns to 4 components -- % payment method columns\n",
    "c2 = range(predictors_numeric.index('pct_pmt_method_3'), predictors_numeric.index('pct_pmt_method_41')+1)\n",
    "\n",
    "# 29 columns to 4 components -- % plan days columns\n",
    "c3 = range(predictors_numeric.index('last_plan_days'), predictors_numeric.index('pct_plan_days_450')+1)\n",
    "\n",
    "# 3 columns to 1 component -- transaction counts (cancelled, non-cancelled, with payment >0)\n",
    "c4 = range(predictors_numeric.index('count_cancel_trans'), predictors_numeric.index('count_trans_w_payment')+1)\n",
    "\n",
    "# This function replaces certain columns from the transformed data with a specified number of components\n",
    "def create_components(arr, columns, n):\n",
    "    # Create PCA from the subset of columns\n",
    "    subset = arr[:, columns]\n",
    "    pca = PCA(n_components=n)\n",
    "    pca_subset = pca.fit_transform(subset)\n",
    "    \n",
    "    # Drop columns from array\n",
    "    arr = np.delete(arr, columns, axis=1)\n",
    "    \n",
    "    # Append new PCA column\n",
    "    arr = np.append(arr, pca_subset, axis=1)\n",
    "    \n",
    "    return arr"
   ]
  },
  {
   "cell_type": "code",
   "execution_count": 53,
   "metadata": {
    "collapsed": true
   },
   "outputs": [],
   "source": [
    "# Train data\n",
    "partial_pca_train = create_components(train_data_transformed, c1, 2)\n",
    "partial_pca_train = create_components(partial_pca_train, c2, 4)\n",
    "partial_pca_train = create_components(partial_pca_train, c3, 4)\n",
    "partial_pca_train = create_components(partial_pca_train, c4, 1)\n",
    "\n",
    "# Dev data\n",
    "partial_pca_dev = create_components(dev_data_transformed, c1, 2)\n",
    "partial_pca_dev = create_components(partial_pca_dev, c2, 4)\n",
    "partial_pca_dev = create_components(partial_pca_dev, c3, 4)\n",
    "partial_pca_dev = create_components(partial_pca_dev, c4, 1)\n",
    "\n",
    "# Test data\n",
    "partial_pca_test = create_components(test_data_transformed, c1, 2)\n",
    "partial_pca_test = create_components(partial_pca_test, c2, 4)\n",
    "partial_pca_test = create_components(partial_pca_test, c3, 4)\n",
    "partial_pca_test = create_components(partial_pca_test,c4,1)"
   ]
  },
  {
   "cell_type": "code",
   "execution_count": 54,
   "metadata": {},
   "outputs": [
    {
     "name": "stdout",
     "output_type": "stream",
     "text": [
      "Partial PCA train data: (15000, 56)\n",
      "Partial PCA dev data: (1000, 56)\n",
      "Partial PCA test data: (4000, 56)\n"
     ]
    }
   ],
   "source": [
    "print ('Partial PCA train data:', partial_pca_train.shape)\n",
    "print ('Partial PCA dev data:', partial_pca_dev.shape)\n",
    "print ('Partial PCA test data:', partial_pca_test.shape)"
   ]
  },
  {
   "cell_type": "markdown",
   "metadata": {},
   "source": [
    "### Baseline Statistics for Model Comparison \n",
    "Before feeding the processed data into the models, we examine how accurate a model would be if it predicted all customers would renew (that is, `is_churn = 0`). This serves as a baseline for comparing and evaluating the models. "
   ]
  },
  {
   "cell_type": "code",
   "execution_count": 55,
   "metadata": {},
   "outputs": [
    {
     "name": "stdout",
     "output_type": "stream",
     "text": [
      "Churn in Train Set: 6.5%\n",
      "Churn in Dev Set: 6.2%\n",
      "Model Accuracy if Predict Churn=0 for Everyone: 0.9380\n",
      "\n"
     ]
    }
   ],
   "source": [
    "print ('''Churn in Train Set: {:.1f}%\n",
    "Churn in Dev Set: {:.1f}%\n",
    "Model Accuracy if Predict Churn=0 for Everyone: {:.4f}\n",
    "'''.format(100.0 * np.mean(train_labels), 100.0 * np.mean(dev_labels), 1 - np.mean(dev_labels)))   "
   ]
  },
  {
   "cell_type": "markdown",
   "metadata": {},
   "source": [
    "## K-Nearest Neighbors\n",
    "\n",
    "Testing K values between 1 and 20, and running the model on the three datasets, we find that the highest accuracy is reported for no PCA & partial PCA with `k=3` at 0.958. These models perform better than a complete PCA, which results in accuracy of 0.951 at `k=2`."
   ]
  },
  {
   "cell_type": "code",
   "execution_count": 56,
   "metadata": {
    "collapsed": true
   },
   "outputs": [],
   "source": [
    "k = range(1,21)\n",
    "knn_acc, knn_acc_pca, knn_acc_partial_pca = [], [], []\n",
    "\n",
    "for i in range(len(k)):\n",
    "    # Fit on normal data\n",
    "    knn1 = KNeighborsClassifier(n_neighbors = k[i])\n",
    "    knn1.fit(train_data_transformed, train_labels)\n",
    "    knn_acc.append(knn1.score(dev_data_transformed, dev_labels))\n",
    "    \n",
    "    # Fit on PCA data\n",
    "    knn2 = KNeighborsClassifier(n_neighbors = k[i])\n",
    "    knn2.fit(pca_train, train_labels)\n",
    "    knn_acc_pca.append(knn2.score(pca_dev, dev_labels))\n",
    "    \n",
    "    # Fit on partial PCA data\n",
    "    knn3 = KNeighborsClassifier(n_neighbors = k[i])\n",
    "    knn3.fit(partial_pca_train, train_labels)\n",
    "    knn_acc_partial_pca.append(knn3.score(partial_pca_dev, dev_labels))"
   ]
  },
  {
   "cell_type": "code",
   "execution_count": 57,
   "metadata": {},
   "outputs": [
    {
     "name": "stdout",
     "output_type": "stream",
     "text": [
      "BEST ACCURACIES:\n",
      "No PCA: 0.958 where k = 3\n",
      "Full PCA: 0.951 where k = 2\n",
      "Partial PCA: 0.958 where k = 3\n",
      "\n"
     ]
    }
   ],
   "source": [
    "print ('''BEST ACCURACIES:\n",
    "No PCA: {:.3f} where k = {}\n",
    "Full PCA: {:.3f} where k = {}\n",
    "Partial PCA: {:.3f} where k = {}\n",
    "'''.format(max(knn_acc), k[np.where(knn_acc == max(knn_acc))[0][0]],\n",
    "           max(knn_acc_pca), k[np.where(knn_acc_pca == max(knn_acc_pca))[0][0]],\n",
    "           max(knn_acc_partial_pca), k[np.where(knn_acc_partial_pca == max(knn_acc_partial_pca))[0][0]]\n",
    "          ))"
   ]
  },
  {
   "cell_type": "markdown",
   "metadata": {},
   "source": [
    "Full PCA almost uniformly has the worst performance in terms of accuracy. This is unexpected, considering that lower dimensionality should improve the measurment of distance between neighbors. At lower k-values, Partial PCA works better than No PCA, likely because it reduces dimensionality. "
   ]
  },
  {
   "cell_type": "code",
   "execution_count": 58,
   "metadata": {},
   "outputs": [
    {
     "data": {
      "text/plain": [
       "<matplotlib.legend.Legend at 0x116bc9b70>"
      ]
     },
     "execution_count": 58,
     "metadata": {},
     "output_type": "execute_result"
    },
    {
     "data": {
      "image/png": "[encoded data removed]",
      "text/plain": [
       "<matplotlib.figure.Figure at 0x114f319e8>"
      ]
     },
     "metadata": {},
     "output_type": "display_data"
    }
   ],
   "source": [
    "plt.plot(k, knn_acc, label='No PCA')\n",
    "plt.plot(k, knn_acc_pca, label='Full PCA')\n",
    "plt.plot(k, knn_acc_partial_pca, label='Partial PCA')\n",
    "plt.title('Accuracy of K-Nearest Neighbor Model on Dev Data')\n",
    "plt.xlabel('K')\n",
    "plt.xticks(np.arange(0, 21, 4))\n",
    "plt.ylabel('Accuracy')\n",
    "plt.legend()"
   ]
  },
  {
   "cell_type": "markdown",
   "metadata": {},
   "source": [
    "We also attempt to find the best performing model through a grid search on the three different data sets. This yields No PCA with `k=9` as the best performing model, with accuracy of 0.9457."
   ]
  },
  {
   "cell_type": "code",
   "execution_count": 59,
   "metadata": {},
   "outputs": [
    {
     "name": "stdout",
     "output_type": "stream",
     "text": [
      "BEST ACCURACIES:\n",
      "No PCA: 0.9457 with {'n_neighbors': 9}\n",
      "Full PCA: 0.9407 with {'n_neighbors': 16}\n",
      "Partial PCA: 0.9437 with {'n_neighbors': 15}\n",
      "\n"
     ]
    }
   ],
   "source": [
    "# Grid Search \n",
    "params_list= [i for i in range(1,21)]\n",
    "knn = KNeighborsClassifier()\n",
    "params = {'n_neighbors': params_list}\n",
    "\n",
    "knn_searcher1 = GridSearchCV(knn, params)\n",
    "knn_searcher1.fit(train_data_transformed, train_labels)\n",
    "\n",
    "knn_searcher2 = GridSearchCV(knn, params)\n",
    "knn_searcher2.fit(pca_train, train_labels)\n",
    "\n",
    "knn_searcher3 = GridSearchCV(knn, params)\n",
    "knn_searcher3.fit(partial_pca_train, train_labels)\n",
    "\n",
    "print ('''BEST ACCURACIES:\n",
    "No PCA: {:.4f} with {}\n",
    "Full PCA: {:.4f} with {}\n",
    "Partial PCA: {:.4f} with {}\n",
    "'''.format(knn_searcher1.best_score_, knn_searcher1.best_params_,\n",
    "           knn_searcher2.best_score_, knn_searcher2.best_params_,\n",
    "           knn_searcher3.best_score_, knn_searcher3.best_params_))"
   ]
  },
  {
   "cell_type": "markdown",
   "metadata": {},
   "source": [
    "The accuracy of the best performing model as reported by the grid search is only marginally better than our baseline of accuracy where we predict all individuals as churning. However, when we examine the classification report, we find that the model will fail to identify 69% of customers who are going to churn (False Negatives), and will wrongly identify 1% of renewing customers as churning (False Positives). Despite the false positives, this model still offers some value to KKBox compared to the baseline of assuming that all customers will not churn, because it _does_ manage to identify 31% of churning customers, giving KKBox a chance to take action to retain those customers."
   ]
  },
  {
   "cell_type": "code",
   "execution_count": 60,
   "metadata": {},
   "outputs": [
    {
     "name": "stdout",
     "output_type": "stream",
     "text": [
      "             precision    recall  f1-score   support\n",
      "\n",
      "          0       0.96      0.99      0.97       938\n",
      "          1       0.76      0.31      0.44        62\n",
      "\n",
      "avg / total       0.94      0.95      0.94      1000\n",
      "\n"
     ]
    }
   ],
   "source": [
    "## Classification report on the best performing model\n",
    " #(no PCA with k=9)\n",
    "knn = KNeighborsClassifier(n_neighbors = 9)\n",
    "knn.fit(train_data_transformed, train_labels)\n",
    "knn_pred = knn.predict(dev_data_transformed)\n",
    "\n",
    "print(classification_report(dev_labels, knn_pred))\n",
    "\n",
    "# precision = true pos / (true pos + false pos) -- how many customers ID'd as churning actually churn?\n",
    "# recall = true pos / (true pos + false neg) -- how many churning customers do we ID as churning?"
   ]
  },
  {
   "cell_type": "markdown",
   "metadata": {},
   "source": [
    "A look at the ROC Curve also shows that the area under the curve is 0.944, which indicates this is a good classifier for identifying customers who will not churn."
   ]
  },
  {
   "cell_type": "code",
   "execution_count": 61,
   "metadata": {},
   "outputs": [
    {
     "data": {
      "text/plain": [
       "0.94365155787880861"
      ]
     },
     "execution_count": 61,
     "metadata": {},
     "output_type": "execute_result"
    },
    {
     "data": {
      "image/png": "[encoded data removed]",
      "text/plain": [
       "<matplotlib.figure.Figure at 0x1174ff860>"
      ]
     },
     "metadata": {},
     "output_type": "display_data"
    }
   ],
   "source": [
    "pred = knn.predict_proba(dev_data_transformed)[:, 1]\n",
    "fpr, tpr, thresh = roc_curve(dev_labels, pred)\n",
    "\n",
    "plt.plot(fpr, tpr)\n",
    "plt.xlabel('FPR')\n",
    "plt.ylabel('TPR')\n",
    "\n",
    "roc_auc_score(dev_labels, pred)"
   ]
  },
  {
   "cell_type": "markdown",
   "metadata": {},
   "source": [
    "##  **Bernoulli Naive Bayes**\n",
    "\n",
    "To find the best model specification, we train Bernoulli Naive Bayes with different values of alpha for each of the three train datasets, recording accuracy on the dev set. The maximum accuracy for all 3 models is 0.938, which is the same as the baseline accuracy."
   ]
  },
  {
   "cell_type": "code",
   "execution_count": 62,
   "metadata": {},
   "outputs": [
    {
     "name": "stderr",
     "output_type": "stream",
     "text": [
      "//anaconda/lib/python3.5/site-packages/sklearn/naive_bayes.py:801: RuntimeWarning: divide by zero encountered in log\n",
      "  self.feature_log_prob_ = (np.log(smoothed_fc) -\n"
     ]
    }
   ],
   "source": [
    "alpha = [0.0, 0.0001, 0.001, 0.01, 0.1, 1.0, 10.0, 100.0, 1000.0, 10000.0]\n",
    "nb_acc, nb_acc_pca, nb_acc_partial_pca = [], [], []\n",
    "\n",
    "for i in range(len(alpha)):\n",
    "    # Fit on normal data\n",
    "    nb1 = BernoulliNB(alpha = alpha[i])\n",
    "    nb1.fit(train_data_transformed, train_labels)\n",
    "    nb_acc.append(nb1.score(dev_data_transformed, dev_labels))\n",
    "    \n",
    "    # Fit on PCA data\n",
    "    nb2 = BernoulliNB(alpha = alpha[i])\n",
    "    nb2.fit(pca_train, train_labels)\n",
    "    nb_acc_pca.append(nb2.score(pca_dev, dev_labels))\n",
    "    \n",
    "    # Fit on partial PCA data\n",
    "    nb3 = BernoulliNB(alpha = alpha[i])\n",
    "    nb3.fit(partial_pca_train, train_labels)\n",
    "    nb_acc_partial_pca.append(nb3.score(partial_pca_dev, dev_labels))"
   ]
  },
  {
   "cell_type": "code",
   "execution_count": 63,
   "metadata": {},
   "outputs": [
    {
     "name": "stdout",
     "output_type": "stream",
     "text": [
      "BEST ACCURACIES:\n",
      "No PCA: 0.938 where alpha = 0.0\n",
      "Full PCA: 0.938 where alpha = 10000.0\n",
      "Partial PCA: 0.938 where alpha = 1000.0\n",
      "\n"
     ]
    }
   ],
   "source": [
    "print ('''BEST ACCURACIES:\n",
    "No PCA: {:.3f} where alpha = {}\n",
    "Full PCA: {:.3f} where alpha = {}\n",
    "Partial PCA: {:.3f} where alpha = {}\n",
    "'''.format(max(nb_acc), alpha[np.where(nb_acc == max(nb_acc))[0][0]],\n",
    "           max(nb_acc_pca), alpha[np.where(nb_acc_pca == max(nb_acc_pca))[0][0]],\n",
    "           max(nb_acc_partial_pca), alpha[np.where(nb_acc_partial_pca == max(nb_acc_partial_pca))[0][0]]\n",
    "          ))"
   ]
  },
  {
   "cell_type": "markdown",
   "metadata": {},
   "source": [
    "Most noticeably in the graph below, the No PCA dataset consistently reports higher accuracy, peaking at 0.938 at `alpha=0`. None of the three datasets perform better than the baseline of 0.938. Reducing dimensionality does not improve the Naive Bayes model for our dataset. A plausible explanation for why Bernoulli Naive Bayes performs worse than K Nearest Neighbors is that many of the features in this data set are not independent of one another. For example, the lifetime of a customer is correlated to the count of transactions. "
   ]
  },
  {
   "cell_type": "code",
   "execution_count": 64,
   "metadata": {},
   "outputs": [
    {
     "name": "stderr",
     "output_type": "stream",
     "text": [
      "//anaconda/lib/python3.5/site-packages/ipykernel/__main__.py:1: RuntimeWarning: divide by zero encountered in log\n",
      "  if __name__ == '__main__':\n",
      "//anaconda/lib/python3.5/site-packages/ipykernel/__main__.py:2: RuntimeWarning: divide by zero encountered in log\n",
      "  from ipykernel import kernelapp as app\n",
      "//anaconda/lib/python3.5/site-packages/ipykernel/__main__.py:3: RuntimeWarning: divide by zero encountered in log\n",
      "  app.launch_new_instance()\n"
     ]
    },
    {
     "data": {
      "text/plain": [
       "<matplotlib.legend.Legend at 0x1036e6e48>"
      ]
     },
     "execution_count": 64,
     "metadata": {},
     "output_type": "execute_result"
    },
    {
     "data": {
      "image/png": "[encoded data removed]",
      "text/plain": [
       "<matplotlib.figure.Figure at 0x111153358>"
      ]
     },
     "metadata": {},
     "output_type": "display_data"
    }
   ],
   "source": [
    "plt.plot(np.log(alpha), nb_acc, label='No PCA')\n",
    "plt.plot(np.log(alpha), nb_acc_pca, label='Full PCA')\n",
    "plt.plot(np.log(alpha), nb_acc_partial_pca, label='Partial PCA')\n",
    "plt.title('Accuracy of Naive Bayes Model on Dev Data')\n",
    "plt.xlabel('Log(Alpha)')\n",
    "plt.ylabel('Accuracy')\n",
    "plt.legend()"
   ]
  },
  {
   "cell_type": "markdown",
   "metadata": {},
   "source": [
    "A Grid Search yields a best accuracy of 0.9351, which all 3 datasets are able to achieve with different values of alpha. The accuracy is roughly equivalent to our baseline of predicting all customers will not churn (0.938)."
   ]
  },
  {
   "cell_type": "code",
   "execution_count": 65,
   "metadata": {},
   "outputs": [
    {
     "name": "stderr",
     "output_type": "stream",
     "text": [
      "//anaconda/lib/python3.5/site-packages/sklearn/naive_bayes.py:801: RuntimeWarning: divide by zero encountered in log\n",
      "  self.feature_log_prob_ = (np.log(smoothed_fc) -\n",
      "//anaconda/lib/python3.5/site-packages/sklearn/naive_bayes.py:801: RuntimeWarning: divide by zero encountered in log\n",
      "  self.feature_log_prob_ = (np.log(smoothed_fc) -\n",
      "//anaconda/lib/python3.5/site-packages/sklearn/naive_bayes.py:801: RuntimeWarning: divide by zero encountered in log\n",
      "  self.feature_log_prob_ = (np.log(smoothed_fc) -\n",
      "//anaconda/lib/python3.5/site-packages/sklearn/naive_bayes.py:801: RuntimeWarning: divide by zero encountered in log\n",
      "  self.feature_log_prob_ = (np.log(smoothed_fc) -\n",
      "//anaconda/lib/python3.5/site-packages/sklearn/naive_bayes.py:801: RuntimeWarning: divide by zero encountered in log\n",
      "  self.feature_log_prob_ = (np.log(smoothed_fc) -\n",
      "//anaconda/lib/python3.5/site-packages/sklearn/naive_bayes.py:801: RuntimeWarning: divide by zero encountered in log\n",
      "  self.feature_log_prob_ = (np.log(smoothed_fc) -\n",
      "//anaconda/lib/python3.5/site-packages/sklearn/naive_bayes.py:801: RuntimeWarning: divide by zero encountered in log\n",
      "  self.feature_log_prob_ = (np.log(smoothed_fc) -\n"
     ]
    },
    {
     "name": "stdout",
     "output_type": "stream",
     "text": [
      "BEST ACCURACIES:\n",
      "No PCA: 0.9351 with {'alpha': 0.0}\n",
      "Full PCA: 0.9351 with {'alpha': 10000.0}\n",
      "Partial PCA: 0.9351 with {'alpha': 1000.0}\n",
      "\n"
     ]
    }
   ],
   "source": [
    "# Also try GridSearch\n",
    "\n",
    "nb = BernoulliNB()\n",
    "params = {'alpha': [0.0, 0.0001, 0.001, 0.01, 0.1, 1.0, 10.0, 100.0, 1000.0, 10000.0]}\n",
    "\n",
    "nb_searcher1 = GridSearchCV(nb, params)\n",
    "nb_searcher1.fit(train_data_transformed, train_labels)\n",
    "\n",
    "nb_searcher2 = GridSearchCV(nb, params)\n",
    "nb_searcher2.fit(pca_train, train_labels)\n",
    "\n",
    "nb_searcher3 = GridSearchCV(nb, params)\n",
    "nb_searcher3.fit(partial_pca_train, train_labels)\n",
    "\n",
    "print('''BEST ACCURACIES:\n",
    "No PCA: {:.4f} with {}\n",
    "Full PCA: {:.4f} with {}\n",
    "Partial PCA: {:.4f} with {}\n",
    "'''.format(nb_searcher1.best_score_, nb_searcher1.best_params_,\n",
    "           nb_searcher2.best_score_, nb_searcher2.best_params_,\n",
    "           nb_searcher3.best_score_, nb_searcher3.best_params_))"
   ]
  },
  {
   "cell_type": "markdown",
   "metadata": {},
   "source": [
    "A look at the classification report of one of the best performing models shows that the best Naive Bayes can do is to literally predict churn=0 for all members. Due to its inability to identify any churning members, this model is less useful than K-Nearest Neighbors to KKBox. "
   ]
  },
  {
   "cell_type": "code",
   "execution_count": 66,
   "metadata": {},
   "outputs": [
    {
     "name": "stdout",
     "output_type": "stream",
     "text": [
      "             precision    recall  f1-score   support\n",
      "\n",
      "          0       0.94      1.00      0.97       938\n",
      "          1       0.00      0.00      0.00        62\n",
      "\n",
      "avg / total       0.88      0.94      0.91      1000\n",
      "\n"
     ]
    },
    {
     "name": "stderr",
     "output_type": "stream",
     "text": [
      "//anaconda/lib/python3.5/site-packages/sklearn/metrics/classification.py:1113: UndefinedMetricWarning: Precision and F-score are ill-defined and being set to 0.0 in labels with no predicted samples.\n",
      "  'precision', 'predicted', average, warn_for)\n"
     ]
    }
   ],
   "source": [
    "# Classification report on the best performing model\n",
    "# (partial PCA with alpha=1000)\n",
    "nb = BernoulliNB(alpha=1000)\n",
    "nb.fit(partial_pca_train, train_labels)\n",
    "nb_pred = nb.predict(partial_pca_dev)\n",
    "\n",
    "print (classification_report(dev_labels, nb_pred))\n"
   ]
  },
  {
   "cell_type": "markdown",
   "metadata": {},
   "source": [
    "The area under the ROC curve is much lower than that of KNN. This is a result of Naive Bayes' difficulty in identifying churning members."
   ]
  },
  {
   "cell_type": "code",
   "execution_count": 67,
   "metadata": {},
   "outputs": [
    {
     "data": {
      "text/plain": [
       "0.82766180617649088"
      ]
     },
     "execution_count": 67,
     "metadata": {},
     "output_type": "execute_result"
    },
    {
     "data": {
      "image/png": "[encoded data removed]",
      "text/plain": [
       "<matplotlib.figure.Figure at 0x11116ceb8>"
      ]
     },
     "metadata": {},
     "output_type": "display_data"
    }
   ],
   "source": [
    "pred = nb.predict_proba(partial_pca_dev)[:, 1]\n",
    "fpr, tpr, thresh = roc_curve(dev_labels, pred)\n",
    "\n",
    "plt.plot(fpr, tpr)\n",
    "plt.xlabel('FPR')\n",
    "plt.ylabel('TPR')\n",
    "\n",
    "roc_auc_score(dev_labels, pred)"
   ]
  },
  {
   "cell_type": "markdown",
   "metadata": {},
   "source": [
    "## Logistic Regression\n",
    "Similar to Naive Bayes and KNearest Neighbors, we train a Logistic Regression model varying between L1 and L2 Regularization and different values of the C regularization parameter, for each of the three train datasets. The Logistic Regression models have higher accuracies than Naive Bayes or K Nearest Neighbors, peaking at 0.973 on the No PCA dataset with L1 regularization, and `C=0.1`."
   ]
  },
  {
   "cell_type": "code",
   "execution_count": 68,
   "metadata": {
    "collapsed": true
   },
   "outputs": [],
   "source": [
    "penalty = ['l1','l2']\n",
    "C = [0.0001, 0.001, 0.01, 0.1, 1.0, 10.0, 100.0]\n",
    "lr_acc, lr_acc_pca, lr_acc_partial_pca = [[],[]], [[],[]], [[],[]]\n",
    "\n",
    "for i in range(len(C)):\n",
    "    for j in range(len(penalty)):\n",
    "        # Fit on normal data\n",
    "        lr1 = LogisticRegression(penalty=penalty[j], C=C[i])\n",
    "        lr1.fit(train_data_transformed, train_labels)\n",
    "        lr_acc[j].append(lr1.score(dev_data_transformed, dev_labels))\n",
    "\n",
    "        # Fit on PCA data\n",
    "        lr2 = LogisticRegression(penalty=penalty[0], C=C[i])\n",
    "        lr2.fit(pca_train, train_labels)\n",
    "        lr_acc_pca[j].append(lr2.score(pca_dev, dev_labels))\n",
    "\n",
    "        # Fit on partial PCA data\n",
    "        lr3 = LogisticRegression(penalty=penalty[0], C=C[i])\n",
    "        lr3.fit(partial_pca_train, train_labels)\n",
    "        lr_acc_partial_pca[j].append(lr3.score(partial_pca_dev, dev_labels))"
   ]
  },
  {
   "cell_type": "code",
   "execution_count": 69,
   "metadata": {},
   "outputs": [
    {
     "name": "stdout",
     "output_type": "stream",
     "text": [
      "BEST ACCURACIES:\n",
      "No PCA: 0.973 where penalty = L1 & C = 0.1\n",
      "Full PCA: 0.953 where penalty = L1 & C = 0.1\n",
      "Partial PCA: 0.969 where penalty = L1 & C = 0.1\n",
      "\n"
     ]
    }
   ],
   "source": [
    "print ('''BEST ACCURACIES:\n",
    "No PCA: {:.3f} where penalty = {} & C = {}\n",
    "Full PCA: {:.3f} where penalty = {} & C = {}\n",
    "Partial PCA: {:.3f} where penalty = {} & C = {}\n",
    "'''.format(max(max(lr_acc[0]), max(lr_acc[1])),\n",
    "           'L1' if max(max(lr_acc[0]), max(lr_acc[1])) == max(lr_acc[0]) else 'L2',\n",
    "           C[np.where(lr_acc[0] == max(lr_acc[0]))[0][0]] if max(max(lr_acc[0]), max(lr_acc[1])) == max(lr_acc[0]) else C[np.where(lr_acc[1] == max(lr_acc[1]))[0][0]],\n",
    "           max(max(lr_acc_pca[0]), max(lr_acc_pca[1])),\n",
    "           'L1' if max(max(lr_acc_pca[0]), max(lr_acc_pca[1])) == max(lr_acc_pca[0]) else 'L2',\n",
    "           C[np.where(lr_acc_pca[0] == max(lr_acc_pca[0]))[0][0]] if max(max(lr_acc_pca[0]), max(lr_acc_pca[1])) == max(lr_acc_pca[0]) else C[np.where(lr_acc_pca[1] == max(lr_acc_pca[1]))[0][0]],\n",
    "           max(max(lr_acc_partial_pca[0]), max(lr_acc_partial_pca[1])),\n",
    "           'L1' if max(max(lr_acc_partial_pca[0]), max(lr_acc_partial_pca[1])) == max(lr_acc_partial_pca[0]) else 'L2',\n",
    "           C[np.where(lr_acc_partial_pca[0] == max(lr_acc_partial_pca[0]))[0][0]] if max(max(lr_acc_partial_pca[0]), max(lr_acc_partial_pca[1])) == max(lr_acc_partial_pca[0]) else C[np.where(lr_acc_partial_pca[1] == max(lr_acc_partial_pca[1]))[0][0]]\n",
    "          ))"
   ]
  },
  {
   "cell_type": "markdown",
   "metadata": {},
   "source": [
    "The accuracy of the partial PCA is comparable to the No PCA, whereas full PCA consistently performs the worst for both L1 and L2 Regularization. One explanation for this phenomenon is that by collapsing the full set of features at once into a set of components, rather than the most related features, full PCA retains less of the variance in the feature matrix."
   ]
  },
  {
   "cell_type": "code",
   "execution_count": 70,
   "metadata": {},
   "outputs": [
    {
     "data": {
      "text/plain": [
       "<matplotlib.legend.Legend at 0x13b1418d0>"
      ]
     },
     "execution_count": 70,
     "metadata": {},
     "output_type": "execute_result"
    },
    {
     "data": {
      "image/png": "[encoded data removed]",
      "text/plain": [
       "<matplotlib.figure.Figure at 0x1148782e8>"
      ]
     },
     "metadata": {},
     "output_type": "display_data"
    }
   ],
   "source": [
    "plt.figure(figsize=(14, 4))\n",
    "\n",
    "plt.subplot(1, 2, 1)\n",
    "plt.plot(np.log(C), lr_acc[0], label='No PCA')\n",
    "plt.plot(np.log(C), lr_acc_pca[0], label='Full PCA')\n",
    "plt.plot(np.log(C), lr_acc_partial_pca[0], label='Partial PCA')\n",
    "plt.title('Logistic Regression Model with Penalty=L1')\n",
    "plt.xlabel('Log(C)')\n",
    "plt.ylabel('Accuracy')\n",
    "plt.yticks(np.arange(0.94, 0.98, 0.005))\n",
    "plt.legend()\n",
    "\n",
    "plt.subplot(1, 2, 2)\n",
    "plt.plot(np.log(C), lr_acc[1], label='No PCA')\n",
    "plt.plot(np.log(C), lr_acc_pca[1], label='Full PCA')\n",
    "plt.plot(np.log(C), lr_acc_partial_pca[1], label='Partial PCA')\n",
    "plt.title('Logistic Regression Model with Penalty=L2')\n",
    "plt.xlabel('Log(C)')\n",
    "plt.ylabel('Accuracy')\n",
    "plt.yticks(np.arange(0.94, 0.98, 0.005))\n",
    "plt.legend()"
   ]
  },
  {
   "cell_type": "markdown",
   "metadata": {},
   "source": [
    "A Grid Search yields the best performing model to also be on the non PCA dataset, with accuracy of 0.9652, regularization as L1 with C=1.0. This is almost as good as the model that was tested on the dev data."
   ]
  },
  {
   "cell_type": "code",
   "execution_count": 71,
   "metadata": {},
   "outputs": [
    {
     "name": "stdout",
     "output_type": "stream",
     "text": [
      "BEST ACCURACIES:\n",
      "No PCA: 0.9652 with {'penalty': 'l1', 'C': 1.0}\n",
      "Full PCA: 0.9373 with {'penalty': 'l2', 'C': 0.001}\n",
      "Partial PCA: 0.9638 with {'penalty': 'l2', 'C': 1.0}\n",
      "\n"
     ]
    }
   ],
   "source": [
    "# Also try GridSearch\n",
    "lr = LogisticRegression()\n",
    "params = {'penalty': ['l1','l2'],\n",
    "          'C': [0.0001, 0.001, 0.01, 0.1, 1.0, 10.0, 100.0]}\n",
    "\n",
    "lr_searcher1 = GridSearchCV(lr, params)\n",
    "lr_searcher1.fit(train_data_transformed, train_labels)\n",
    "\n",
    "lr_searcher2 = GridSearchCV(lr, params)\n",
    "lr_searcher2.fit(pca_train, train_labels)\n",
    "\n",
    "lr_searcher3 = GridSearchCV(lr, params)\n",
    "lr_searcher3.fit(partial_pca_train, train_labels)\n",
    "\n",
    "print ('''BEST ACCURACIES:\n",
    "No PCA: {:.4f} with {}\n",
    "Full PCA: {:.4f} with {}\n",
    "Partial PCA: {:.4f} with {}\n",
    "'''.format(lr_searcher1.best_score_, lr_searcher1.best_params_,\n",
    "           lr_searcher2.best_score_, lr_searcher2.best_params_,\n",
    "           lr_searcher3.best_score_, lr_searcher3.best_params_))"
   ]
  },
  {
   "cell_type": "markdown",
   "metadata": {},
   "source": [
    "The classification report on the best performing model shows an improvement over K-Nearest Neighbors. Like KNN, the model wrongly identifies 1% of renewing customers as churning (False Positives), but the real improvement is that it identifies 66% of churning customers as churning, compared to only 31% in KNN. This model is the most useful for KKBox."
   ]
  },
  {
   "cell_type": "code",
   "execution_count": 72,
   "metadata": {},
   "outputs": [
    {
     "name": "stdout",
     "output_type": "stream",
     "text": [
      "             precision    recall  f1-score   support\n",
      "\n",
      "          0       0.98      0.99      0.99       938\n",
      "          1       0.87      0.66      0.75        62\n",
      "\n",
      "avg / total       0.97      0.97      0.97      1000\n",
      "\n"
     ]
    }
   ],
   "source": [
    "# Classification report on the best performing model\n",
    "# (no PCA with penalty=l1 & C=0.1)\n",
    "lr = LogisticRegression(penalty='l1', C=0.1)\n",
    "lr.fit(train_data_transformed, train_labels)\n",
    "lr_pred = lr.predict(dev_data_transformed)\n",
    "\n",
    "print(classification_report(dev_labels, lr_pred))"
   ]
  },
  {
   "cell_type": "markdown",
   "metadata": {},
   "source": [
    "The ROC curve shows that the area under the curve is highest for the Logistic Regression classifier, at 0.989. This is in line with the highest precision rates for both classes, observed in the classification report. "
   ]
  },
  {
   "cell_type": "code",
   "execution_count": 73,
   "metadata": {},
   "outputs": [
    {
     "data": {
      "text/plain": [
       "0.98949377536281724"
      ]
     },
     "execution_count": 73,
     "metadata": {},
     "output_type": "execute_result"
    },
    {
     "data": {
      "image/png": "[encoded data removed]",
      "text/plain": [
       "<matplotlib.figure.Figure at 0x11225bb00>"
      ]
     },
     "metadata": {},
     "output_type": "display_data"
    }
   ],
   "source": [
    "pred = lr.predict_proba(dev_data_transformed)[:, 1]\n",
    "fpr, tpr, thresh = roc_curve(dev_labels, pred)\n",
    "\n",
    "plt.plot(fpr, tpr)\n",
    "plt.xlabel('FPR')\n",
    "plt.ylabel('TPR')\n",
    "\n",
    "roc_auc_score(dev_labels, pred)"
   ]
  },
  {
   "cell_type": "markdown",
   "metadata": {},
   "source": [
    "### Performance on Test Set\n",
    "\n",
    "Finally, we will see how our best model performs on the test set. Recall that our best model was a Logistic Regression with L1 regularization, C=0.1, and accuracy of 0.973.\n",
    "\n",
    "Compared to the predictions on the dev set, we get a slightly lower accuracy of 0.963 on the test set. Of the customers that we predict will churn, the False Positive rate is higher, at 23% compared to 13% on the dev set. But, the model is still able to identify 63% of churning customers.\n",
    "\n",
    "The ROC curve looks about the same, as expected given that we have similar precision scores (0.97 vs 0.98 for renewing members)."
   ]
  },
  {
   "cell_type": "code",
   "execution_count": 74,
   "metadata": {},
   "outputs": [
    {
     "name": "stdout",
     "output_type": "stream",
     "text": [
      "Accuracy: 0.9635\n",
      "             precision    recall  f1-score   support\n",
      "\n",
      "          0       0.97      0.99      0.98      3741\n",
      "          1       0.77      0.63      0.69       259\n",
      "\n",
      "avg / total       0.96      0.96      0.96      4000\n",
      "\n"
     ]
    }
   ],
   "source": [
    "# Classification report on the best model\n",
    "lr = LogisticRegression(penalty='l1', C=0.1)\n",
    "lr.fit(train_data_transformed, train_labels)\n",
    "lr_pred = lr.predict(test_data_transformed)\n",
    "\n",
    "print('''Accuracy: {:.4f}'''.format(lr.score(test_data_transformed, test_labels)))\n",
    "print(classification_report(test_labels, lr_pred))"
   ]
  },
  {
   "cell_type": "code",
   "execution_count": 75,
   "metadata": {},
   "outputs": [
    {
     "name": "stdout",
     "output_type": "stream",
     "text": [
      "Area Under ROC Curve: 0.9760\n"
     ]
    },
    {
     "data": {
      "image/png": "[encoded data removed]",
      "text/plain": [
       "<matplotlib.figure.Figure at 0x1113fbbe0>"
      ]
     },
     "metadata": {},
     "output_type": "display_data"
    }
   ],
   "source": [
    "# ROC Curve\n",
    "pred = lr.predict_proba(test_data_transformed)[:, 1]\n",
    "fpr, tpr, thresh = roc_curve(test_labels, pred)\n",
    "\n",
    "plt.plot(fpr, tpr)\n",
    "plt.xlabel('FPR')\n",
    "plt.ylabel('TPR')\n",
    "\n",
    "print('''Area Under ROC Curve: {:.4f}'''.format(roc_auc_score(test_labels, pred)))"
   ]
  },
  {
   "cell_type": "markdown",
   "metadata": {},
   "source": [
    "### Conclusion\n",
    "\n",
    "After constructing three different supervised learning models on three different datasets, the highest accuracy we were able to achieve on the dev set was 0.973. While this may seem a marginal improvement over a model that predicts everybody will renew, we argue that KKBox is better off identifying members who may churn using the logistic regression model with no PCA, and intervening to retain those members.\n",
    "\n",
    "Assume KKBox decides to give a \\$10 bonus to every member that we predict will churn. In the test set with 4,000 members, our model predicts 213 members will churn. Of these, 164 will actually churn and 49 will not. Supposing that the \\$10 bonus strategy is effective 50% of the time, KKBox will retain 82 customers for at least one additional month. The subscription payments from these customers will bring in \\$149 $\\times$ 82, which more than offsets the cost of giving the bonus to the 82 converts and the 49 people who would have renewed anyway.\n",
    "\n",
    "As this model is likely to bring value, we recommend an extension from the 20,000 members to the full dataset as the logical next step."
   ]
  },
  {
   "cell_type": "code",
   "execution_count": null,
   "metadata": {
    "collapsed": true
   },
   "outputs": [],
   "source": []
  }
 ],
 "metadata": {
  "kernelspec": {
   "display_name": "Python [default]",
   "language": "python",
   "name": "python3"
  },
  "language_info": {
   "codemirror_mode": {
    "name": "ipython",
    "version": 3
   },
   "file_extension": ".py",
   "mimetype": "text/x-python",
   "name": "python",
   "nbconvert_exporter": "python",
   "pygments_lexer": "ipython3",
   "version": "3.5.3"
  }
 },
 "nbformat": 4,
 "nbformat_minor": 2
}
